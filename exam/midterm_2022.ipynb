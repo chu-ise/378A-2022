{
  "cells": [
    {
      "cell_type": "markdown",
      "metadata": {
        "id": "5NBDsR8tqVDp"
      },
      "source": [
        "<a href=\"https://colab.research.google.com/github/chu-ise/378A-2022/blob/main/exam/midterm_2022.ipynb\" target=\"_parent\"><img src=\"https://colab.research.google.com/assets/colab-badge.svg\" alt=\"Open In Colab\"/></a>"
      ]
    },
    {
      "cell_type": "markdown",
      "metadata": {
        "id": "aRHucTDpqVDr"
      },
      "source": [
        "# Midterm 378A-2022"
      ]
    },
    {
      "cell_type": "code",
      "execution_count": null,
      "metadata": {
        "colab": {
          "base_uri": "https://localhost:8080/"
        },
        "id": "Y5qkWPyLqVDr",
        "outputId": "8447238f-1f90-4406-b9c5-e73858d311a0"
      },
      "outputs": [
        {
          "name": "stdout",
          "output_type": "stream",
          "text": [
            "What is your name? Your Name\n",
            "What is your student ID? Your ID\n",
            "Name: Your Name\n",
            "Student ID: Your ID\n"
          ]
        }
      ],
      "source": [
        "name = input(\"What is your name? \")\n",
        "sid = input(\"What is your student ID? \")\n",
        "print(\"Name: \" + name + \"\\nStudent ID: \" + sid)"
      ]
    },
    {
      "cell_type": "markdown",
      "metadata": {
        "id": "c6Bfru_VqVDs"
      },
      "source": [
        "## Problem specification\n",
        "\n",
        "1. 의사록 다운로드\n",
        "2. 문장 단위로 분리\n",
        "3. 토크나이징 (형태소 분석 후 명사 추출)\n",
        "4. 각 문서별 불확실성 단어 추출 후 카운트\n",
        "5. 연도별 불확실성 단어 발생빈도 시계열 그래프 생성\n",
        "\n",
        "> 불확실성 단어 리스트:\n",
        "> \n",
        "> ['불확실', '위험', '경제', '적자', '국회', '입법', '청와대', '정부', '규제']\n"
      ]
    },
    {
      "cell_type": "code",
      "execution_count": 1,
      "metadata": {
        "id": "y6XdSrO9Q3mj"
      },
      "outputs": [],
      "source": [
        "%%capture\n",
        "%pip install ekorpkit[tokenize]==0.1.17"
      ]
    },
    {
      "cell_type": "code",
      "execution_count": 2,
      "metadata": {
        "colab": {
          "base_uri": "https://localhost:8080/"
        },
        "id": "rYhqM64_qVDt",
        "outputId": "309dc341-0cbd-4fe7-a0f0-8016e512c304"
      },
      "outputs": [
        {
          "name": "stderr",
          "output_type": "stream",
          "text": [
            "[bok_minutes.csv]: 100%|██████████| 10.1M/10.1M [00:00<00:00, 19.2MB/s]\n"
          ]
        }
      ],
      "source": [
        "from ekorpkit.io.download import gdrive_download\n",
        "id = \"1uDxxBNZ-qZscPjdEam0QEjTdKcFUBMuy\"\n",
        "\n",
        "data_file = \"bok_minutes.csv\"\n",
        "gdrive_download(file_id=id, local_path=data_file)"
      ]
    },
    {
      "cell_type": "code",
      "execution_count": 3,
      "metadata": {
        "colab": {
          "base_uri": "https://localhost:8080/",
          "height": 206
        },
        "id": "o-1jbUI2qVDt",
        "outputId": "24ac9906-60f6-4808-af55-2b43a5883ae4"
      },
      "outputs": [
        {
          "data": {
            "text/html": [
              "\n",
              "  <div id=\"df-ddb7cbb6-1f9b-42f0-8ce0-6de859ecb411\">\n",
              "    <div class=\"colab-df-container\">\n",
              "      <div>\n",
              "<style scoped>\n",
              "    .dataframe tbody tr th:only-of-type {\n",
              "        vertical-align: middle;\n",
              "    }\n",
              "\n",
              "    .dataframe tbody tr th {\n",
              "        vertical-align: top;\n",
              "    }\n",
              "\n",
              "    .dataframe thead th {\n",
              "        text-align: right;\n",
              "    }\n",
              "</style>\n",
              "<table border=\"1\" class=\"dataframe\">\n",
              "  <thead>\n",
              "    <tr style=\"text-align: right;\">\n",
              "      <th></th>\n",
              "      <th>id</th>\n",
              "      <th>filename</th>\n",
              "      <th>mdate</th>\n",
              "      <th>rdate</th>\n",
              "      <th>section</th>\n",
              "      <th>text</th>\n",
              "    </tr>\n",
              "  </thead>\n",
              "  <tbody>\n",
              "    <tr>\n",
              "      <th>0</th>\n",
              "      <td>BOK_20181130_20181218_S1</td>\n",
              "      <td>BOK_20181130_20181218</td>\n",
              "      <td>2018-11-30 10:00:00</td>\n",
              "      <td>2018-12-18 16:00:00</td>\n",
              "      <td>Economic Situation</td>\n",
              "      <td>일부 위원은 관련부서에서 지난 3/4분기 중 유로지역 경제성장 부진을 자동차 관련 ...</td>\n",
              "    </tr>\n",
              "    <tr>\n",
              "      <th>1</th>\n",
              "      <td>BOK_20181130_20181218_S2</td>\n",
              "      <td>BOK_20181130_20181218</td>\n",
              "      <td>2018-11-30 10:00:00</td>\n",
              "      <td>2018-12-18 16:00:00</td>\n",
              "      <td>Foreign Currency</td>\n",
              "      <td>일부 위원은 그동안 글로벌펀드와 패시브펀드의 규모가 크게 확대되어 우리나라 자본유출...</td>\n",
              "    </tr>\n",
              "    <tr>\n",
              "      <th>2</th>\n",
              "      <td>BOK_20181130_20181218_S3</td>\n",
              "      <td>BOK_20181130_20181218</td>\n",
              "      <td>2018-11-30 10:00:00</td>\n",
              "      <td>2018-12-18 16:00:00</td>\n",
              "      <td>Financial Markets</td>\n",
              "      <td>일부 위원은 현재 대기업들이 전반적으로는 문제가 없지만, 건설 조선업 등에 속하는 ...</td>\n",
              "    </tr>\n",
              "    <tr>\n",
              "      <th>3</th>\n",
              "      <td>BOK_20181130_20181218_S4</td>\n",
              "      <td>BOK_20181130_20181218</td>\n",
              "      <td>2018-11-30 10:00:00</td>\n",
              "      <td>2018-12-18 16:00:00</td>\n",
              "      <td>Monetary Policy</td>\n",
              "      <td>일부 위원은 최근 경기상황과 금융불균형 등을 고려할 때 확장적 재정정책의 필요성에는...</td>\n",
              "    </tr>\n",
              "    <tr>\n",
              "      <th>4</th>\n",
              "      <td>BOK_20181130_20181218_S5</td>\n",
              "      <td>BOK_20181130_20181218</td>\n",
              "      <td>2018-11-30 10:00:00</td>\n",
              "      <td>2018-12-18 16:00:00</td>\n",
              "      <td>Participants’ Views</td>\n",
              "      <td>일부 위원은 최근 실물경제 성장경로의 하방위험이 다소 커진 것으로 보이고 물가도 상...</td>\n",
              "    </tr>\n",
              "  </tbody>\n",
              "</table>\n",
              "</div>\n",
              "      <button class=\"colab-df-convert\" onclick=\"convertToInteractive('df-ddb7cbb6-1f9b-42f0-8ce0-6de859ecb411')\"\n",
              "              title=\"Convert this dataframe to an interactive table.\"\n",
              "              style=\"display:none;\">\n",
              "        \n",
              "  <svg xmlns=\"http://www.w3.org/2000/svg\" height=\"24px\"viewBox=\"0 0 24 24\"\n",
              "       width=\"24px\">\n",
              "    <path d=\"M0 0h24v24H0V0z\" fill=\"none\"/>\n",
              "    <path d=\"M18.56 5.44l.94 2.06.94-2.06 2.06-.94-2.06-.94-.94-2.06-.94 2.06-2.06.94zm-11 1L8.5 8.5l.94-2.06 2.06-.94-2.06-.94L8.5 2.5l-.94 2.06-2.06.94zm10 10l.94 2.06.94-2.06 2.06-.94-2.06-.94-.94-2.06-.94 2.06-2.06.94z\"/><path d=\"M17.41 7.96l-1.37-1.37c-.4-.4-.92-.59-1.43-.59-.52 0-1.04.2-1.43.59L10.3 9.45l-7.72 7.72c-.78.78-.78 2.05 0 2.83L4 21.41c.39.39.9.59 1.41.59.51 0 1.02-.2 1.41-.59l7.78-7.78 2.81-2.81c.8-.78.8-2.07 0-2.86zM5.41 20L4 18.59l7.72-7.72 1.47 1.35L5.41 20z\"/>\n",
              "  </svg>\n",
              "      </button>\n",
              "      \n",
              "  <style>\n",
              "    .colab-df-container {\n",
              "      display:flex;\n",
              "      flex-wrap:wrap;\n",
              "      gap: 12px;\n",
              "    }\n",
              "\n",
              "    .colab-df-convert {\n",
              "      background-color: #E8F0FE;\n",
              "      border: none;\n",
              "      border-radius: 50%;\n",
              "      cursor: pointer;\n",
              "      display: none;\n",
              "      fill: #1967D2;\n",
              "      height: 32px;\n",
              "      padding: 0 0 0 0;\n",
              "      width: 32px;\n",
              "    }\n",
              "\n",
              "    .colab-df-convert:hover {\n",
              "      background-color: #E2EBFA;\n",
              "      box-shadow: 0px 1px 2px rgba(60, 64, 67, 0.3), 0px 1px 3px 1px rgba(60, 64, 67, 0.15);\n",
              "      fill: #174EA6;\n",
              "    }\n",
              "\n",
              "    [theme=dark] .colab-df-convert {\n",
              "      background-color: #3B4455;\n",
              "      fill: #D2E3FC;\n",
              "    }\n",
              "\n",
              "    [theme=dark] .colab-df-convert:hover {\n",
              "      background-color: #434B5C;\n",
              "      box-shadow: 0px 1px 3px 1px rgba(0, 0, 0, 0.15);\n",
              "      filter: drop-shadow(0px 1px 2px rgba(0, 0, 0, 0.3));\n",
              "      fill: #FFFFFF;\n",
              "    }\n",
              "  </style>\n",
              "\n",
              "      <script>\n",
              "        const buttonEl =\n",
              "          document.querySelector('#df-ddb7cbb6-1f9b-42f0-8ce0-6de859ecb411 button.colab-df-convert');\n",
              "        buttonEl.style.display =\n",
              "          google.colab.kernel.accessAllowed ? 'block' : 'none';\n",
              "\n",
              "        async function convertToInteractive(key) {\n",
              "          const element = document.querySelector('#df-ddb7cbb6-1f9b-42f0-8ce0-6de859ecb411');\n",
              "          const dataTable =\n",
              "            await google.colab.kernel.invokeFunction('convertToInteractive',\n",
              "                                                     [key], {});\n",
              "          if (!dataTable) return;\n",
              "\n",
              "          const docLinkHtml = 'Like what you see? Visit the ' +\n",
              "            '<a target=\"_blank\" href=https://colab.research.google.com/notebooks/data_table.ipynb>data table notebook</a>'\n",
              "            + ' to learn more about interactive tables.';\n",
              "          element.innerHTML = '';\n",
              "          dataTable['output_type'] = 'display_data';\n",
              "          await google.colab.output.renderOutput(dataTable, element);\n",
              "          const docLink = document.createElement('div');\n",
              "          docLink.innerHTML = docLinkHtml;\n",
              "          element.appendChild(docLink);\n",
              "        }\n",
              "      </script>\n",
              "    </div>\n",
              "  </div>\n",
              "  "
            ],
            "text/plain": [
              "                         id               filename                mdate  \\\n",
              "0  BOK_20181130_20181218_S1  BOK_20181130_20181218  2018-11-30 10:00:00   \n",
              "1  BOK_20181130_20181218_S2  BOK_20181130_20181218  2018-11-30 10:00:00   \n",
              "2  BOK_20181130_20181218_S3  BOK_20181130_20181218  2018-11-30 10:00:00   \n",
              "3  BOK_20181130_20181218_S4  BOK_20181130_20181218  2018-11-30 10:00:00   \n",
              "4  BOK_20181130_20181218_S5  BOK_20181130_20181218  2018-11-30 10:00:00   \n",
              "\n",
              "                 rdate              section  \\\n",
              "0  2018-12-18 16:00:00   Economic Situation   \n",
              "1  2018-12-18 16:00:00     Foreign Currency   \n",
              "2  2018-12-18 16:00:00    Financial Markets   \n",
              "3  2018-12-18 16:00:00      Monetary Policy   \n",
              "4  2018-12-18 16:00:00  Participants’ Views   \n",
              "\n",
              "                                                text  \n",
              "0  일부 위원은 관련부서에서 지난 3/4분기 중 유로지역 경제성장 부진을 자동차 관련 ...  \n",
              "1  일부 위원은 그동안 글로벌펀드와 패시브펀드의 규모가 크게 확대되어 우리나라 자본유출...  \n",
              "2  일부 위원은 현재 대기업들이 전반적으로는 문제가 없지만, 건설 조선업 등에 속하는 ...  \n",
              "3  일부 위원은 최근 경기상황과 금융불균형 등을 고려할 때 확장적 재정정책의 필요성에는...  \n",
              "4  일부 위원은 최근 실물경제 성장경로의 하방위험이 다소 커진 것으로 보이고 물가도 상...  "
            ]
          },
          "execution_count": 3,
          "metadata": {},
          "output_type": "execute_result"
        }
      ],
      "source": [
        "import pandas as pd\n",
        "df = pd.read_csv(data_file)\n",
        "df.head()"
      ]
    },
    {
      "cell_type": "markdown",
      "metadata": {
        "id": "DnhzWTgOqVDt"
      },
      "source": [
        "\n",
        "## prepare tokenizers"
      ]
    },
    {
      "cell_type": "code",
      "execution_count": 4,
      "metadata": {
        "colab": {
          "base_uri": "https://localhost:8080/"
        },
        "id": "0pGC5UtXqVDu",
        "outputId": "ddd8dfd3-2ef2-4fb1-f678-65612ef53022"
      },
      "outputs": [
        {
          "name": "stderr",
          "output_type": "stream",
          "text": [
            "[ekorpkit]: Initializing mecab...\n"
          ]
        },
        {
          "name": "stdout",
          "output_type": "stream",
          "text": [
            "['IMF/SL', '가/JKS', ' /SP', '추정/NNG', '한/XSA+ETM', ' /SP', '우리나라/NNG', '의/JKG', ' /SP', 'GDP/SL', '갭/NNG', '률/XSN', '은/JX', ' /SP', '금년/NNG', '에/JKB', '도/JX', ' /SP', '소폭/NNG', '의/JKG', ' /SP', '마이너스/NNG', '(/SSO', '-)/SY', '를/JKO', ' /SP', '지속/NNG', '하/XSV', '고/EC', ' /SP', '있/VX', '다/EF', './SF']\n"
          ]
        }
      ],
      "source": [
        "from ekorpkit import eKonf\n",
        "config_group='preprocessor/tokenizer=mecab'\n",
        "cfg = eKonf.compose(config_group=config_group)\n",
        "mecab = eKonf.instantiate(cfg)\n",
        "print(mecab.pos('IMF가 추정한 우리나라의 GDP갭률은 금년에도 소폭의 마이너스(-)를 지속하고 있다.'))"
      ]
    },
    {
      "cell_type": "code",
      "execution_count": 5,
      "metadata": {
        "colab": {
          "base_uri": "https://localhost:8080/"
        },
        "id": "DKcb5M2HsyuQ",
        "outputId": "036df05f-4c25-454f-8b49-3ad035117e4e"
      },
      "outputs": [
        {
          "name": "stderr",
          "output_type": "stream",
          "text": [
            "[ekorpkit]: Initializing mecab...\n"
          ]
        },
        {
          "name": "stdout",
          "output_type": "stream",
          "text": [
            "['불확실/NNG', ' /SP', '위험/NNG', ' /SP', '경제/NNG', ' /SP', '적자/NNG', ' /SP', '국회/NNG', ' /SP', '입법/NNG', ' /SP', '청와대/NNP', ' /SP', '정부/NNG', ' /SP', '규제/NNG']\n"
          ]
        }
      ],
      "source": [
        "from ekorpkit.preprocessors.tokenizer import MecabTokenizer\n",
        "mecab = MecabTokenizer()\n",
        "uncertain_words = ['불확실', '위험', '경제', '적자', '국회', '입법', '청와대', '정부', '규제']\n",
        "print(mecab.pos(' '.join(uncertain_words)))"
      ]
    },
    {
      "cell_type": "markdown",
      "metadata": {
        "id": "0Tout6ZEqVDv"
      },
      "source": [
        "## Start your coding ..."
      ]
    },
    {
      "cell_type": "code",
      "execution_count": null,
      "metadata": {
        "id": "PspJYT0wtXvP"
      },
      "outputs": [],
      "source": []
    }
  ],
  "metadata": {
    "colab": {
      "name": "midterm_2022.ipynb",
      "provenance": []
    },
    "interpreter": {
      "hash": "1cb483cf0c285c56169e405615a02d249d0d711aa034386fe0172be5ae49274c"
    },
    "kernelspec": {
      "display_name": "Python 3.9.2 64-bit ('nlp_test-3.9.2')",
      "language": "python",
      "name": "python3"
    },
    "language_info": {
      "codemirror_mode": {
        "name": "ipython",
        "version": 3
      },
      "file_extension": ".py",
      "mimetype": "text/x-python",
      "name": "python",
      "nbconvert_exporter": "python",
      "pygments_lexer": "ipython3",
      "version": "3.9.2"
    },
    "orig_nbformat": 4
  },
  "nbformat": 4,
  "nbformat_minor": 0
}
