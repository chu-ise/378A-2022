{
  "cells": [
    {
      "cell_type": "markdown",
      "metadata": {
        "id": "CTlnHyejIP2A"
      },
      "source": [
        "<a href=\"https://colab.research.google.com/github/chu-ise/378A-2022/blob/main/notebooks/06/03_ngram.ipynb\" target=\"_parent\"><img src=\"https://colab.research.google.com/assets/colab-badge.svg\" alt=\"Open In Colab\"/></a>"
      ]
    },
    {
      "cell_type": "code",
      "execution_count": 1,
      "metadata": {
        "id": "3_keLGfGIP2E"
      },
      "outputs": [],
      "source": [
        "%%capture\n",
        "%pip install ekorpkit[tokenize]==0.1.12.post0.dev26"
      ]
    },
    {
      "cell_type": "code",
      "execution_count": 2,
      "metadata": {
        "colab": {
          "base_uri": "https://localhost:8080/",
          "height": 107
        },
        "id": "e_XRmWXSIP2F",
        "outputId": "c5f2cca5-9963-42dd-90b0-475b6dd80b6b"
      },
      "outputs": [
        {
          "name": "stderr",
          "output_type": "stream",
          "text": [
            "Downloading...\n",
            "From: https://drive.google.com/uc?id=1uDxxBNZ-qZscPjdEam0QEjTdKcFUBMuy\n",
            "To: /content/bok_minutes.csv\n",
            "100%|██████████| 10.1M/10.1M [00:00<00:00, 153MB/s]\n"
          ]
        },
        {
          "data": {
            "application/vnd.google.colaboratory.intrinsic+json": {
              "type": "string"
            },
            "text/plain": [
              "'bok_minutes.csv'"
            ]
          },
          "execution_count": 2,
          "metadata": {},
          "output_type": "execute_result"
        }
      ],
      "source": [
        "import gdown\n",
        "import os\n",
        "id = \"1uDxxBNZ-qZscPjdEam0QEjTdKcFUBMuy\"\n",
        "\n",
        "data_file = \"bok_minutes.csv\"\n",
        "gdown.download(id=id, output=data_file, quiet=False, fuzzy=True)"
      ]
    },
    {
      "cell_type": "code",
      "execution_count": 3,
      "metadata": {
        "colab": {
          "base_uri": "https://localhost:8080/",
          "height": 250
        },
        "id": "yooJe4XyIP2G",
        "outputId": "e6306d00-cdda-47aa-9e76-8a51cf331045"
      },
      "outputs": [
        {
          "data": {
            "text/html": [
              "\n",
              "  <div id=\"df-cad38183-ec81-461b-81af-aceedb7bdea8\">\n",
              "    <div class=\"colab-df-container\">\n",
              "      <div>\n",
              "<style scoped>\n",
              "    .dataframe tbody tr th:only-of-type {\n",
              "        vertical-align: middle;\n",
              "    }\n",
              "\n",
              "    .dataframe tbody tr th {\n",
              "        vertical-align: top;\n",
              "    }\n",
              "\n",
              "    .dataframe thead th {\n",
              "        text-align: right;\n",
              "    }\n",
              "</style>\n",
              "<table border=\"1\" class=\"dataframe\">\n",
              "  <thead>\n",
              "    <tr style=\"text-align: right;\">\n",
              "      <th></th>\n",
              "      <th>id</th>\n",
              "      <th>filename</th>\n",
              "      <th>mdate</th>\n",
              "      <th>rdate</th>\n",
              "      <th>section</th>\n",
              "      <th>text</th>\n",
              "    </tr>\n",
              "  </thead>\n",
              "  <tbody>\n",
              "    <tr>\n",
              "      <th>0</th>\n",
              "      <td>BOK_20181130_20181218_S1</td>\n",
              "      <td>BOK_20181130_20181218</td>\n",
              "      <td>2018-11-30 10:00:00</td>\n",
              "      <td>2018-12-18 16:00:00</td>\n",
              "      <td>Economic Situation</td>\n",
              "      <td>일부 위원은 관련부서에서 지난 3/4분기 중 유로지역 경제성장 부진을 자동차 관련 ...</td>\n",
              "    </tr>\n",
              "    <tr>\n",
              "      <th>1</th>\n",
              "      <td>BOK_20181130_20181218_S2</td>\n",
              "      <td>BOK_20181130_20181218</td>\n",
              "      <td>2018-11-30 10:00:00</td>\n",
              "      <td>2018-12-18 16:00:00</td>\n",
              "      <td>Foreign Currency</td>\n",
              "      <td>일부 위원은 그동안 글로벌펀드와 패시브펀드의 규모가 크게 확대되어 우리나라 자본유출...</td>\n",
              "    </tr>\n",
              "    <tr>\n",
              "      <th>2</th>\n",
              "      <td>BOK_20181130_20181218_S3</td>\n",
              "      <td>BOK_20181130_20181218</td>\n",
              "      <td>2018-11-30 10:00:00</td>\n",
              "      <td>2018-12-18 16:00:00</td>\n",
              "      <td>Financial Markets</td>\n",
              "      <td>일부 위원은 현재 대기업들이 전반적으로는 문제가 없지만, 건설 조선업 등에 속하는 ...</td>\n",
              "    </tr>\n",
              "    <tr>\n",
              "      <th>3</th>\n",
              "      <td>BOK_20181130_20181218_S4</td>\n",
              "      <td>BOK_20181130_20181218</td>\n",
              "      <td>2018-11-30 10:00:00</td>\n",
              "      <td>2018-12-18 16:00:00</td>\n",
              "      <td>Monetary Policy</td>\n",
              "      <td>일부 위원은 최근 경기상황과 금융불균형 등을 고려할 때 확장적 재정정책의 필요성에는...</td>\n",
              "    </tr>\n",
              "    <tr>\n",
              "      <th>4</th>\n",
              "      <td>BOK_20181130_20181218_S5</td>\n",
              "      <td>BOK_20181130_20181218</td>\n",
              "      <td>2018-11-30 10:00:00</td>\n",
              "      <td>2018-12-18 16:00:00</td>\n",
              "      <td>Participants’ Views</td>\n",
              "      <td>일부 위원은 최근 실물경제 성장경로의 하방위험이 다소 커진 것으로 보이고 물가도 상...</td>\n",
              "    </tr>\n",
              "  </tbody>\n",
              "</table>\n",
              "</div>\n",
              "      <button class=\"colab-df-convert\" onclick=\"convertToInteractive('df-cad38183-ec81-461b-81af-aceedb7bdea8')\"\n",
              "              title=\"Convert this dataframe to an interactive table.\"\n",
              "              style=\"display:none;\">\n",
              "        \n",
              "  <svg xmlns=\"http://www.w3.org/2000/svg\" height=\"24px\"viewBox=\"0 0 24 24\"\n",
              "       width=\"24px\">\n",
              "    <path d=\"M0 0h24v24H0V0z\" fill=\"none\"/>\n",
              "    <path d=\"M18.56 5.44l.94 2.06.94-2.06 2.06-.94-2.06-.94-.94-2.06-.94 2.06-2.06.94zm-11 1L8.5 8.5l.94-2.06 2.06-.94-2.06-.94L8.5 2.5l-.94 2.06-2.06.94zm10 10l.94 2.06.94-2.06 2.06-.94-2.06-.94-.94-2.06-.94 2.06-2.06.94z\"/><path d=\"M17.41 7.96l-1.37-1.37c-.4-.4-.92-.59-1.43-.59-.52 0-1.04.2-1.43.59L10.3 9.45l-7.72 7.72c-.78.78-.78 2.05 0 2.83L4 21.41c.39.39.9.59 1.41.59.51 0 1.02-.2 1.41-.59l7.78-7.78 2.81-2.81c.8-.78.8-2.07 0-2.86zM5.41 20L4 18.59l7.72-7.72 1.47 1.35L5.41 20z\"/>\n",
              "  </svg>\n",
              "      </button>\n",
              "      \n",
              "  <style>\n",
              "    .colab-df-container {\n",
              "      display:flex;\n",
              "      flex-wrap:wrap;\n",
              "      gap: 12px;\n",
              "    }\n",
              "\n",
              "    .colab-df-convert {\n",
              "      background-color: #E8F0FE;\n",
              "      border: none;\n",
              "      border-radius: 50%;\n",
              "      cursor: pointer;\n",
              "      display: none;\n",
              "      fill: #1967D2;\n",
              "      height: 32px;\n",
              "      padding: 0 0 0 0;\n",
              "      width: 32px;\n",
              "    }\n",
              "\n",
              "    .colab-df-convert:hover {\n",
              "      background-color: #E2EBFA;\n",
              "      box-shadow: 0px 1px 2px rgba(60, 64, 67, 0.3), 0px 1px 3px 1px rgba(60, 64, 67, 0.15);\n",
              "      fill: #174EA6;\n",
              "    }\n",
              "\n",
              "    [theme=dark] .colab-df-convert {\n",
              "      background-color: #3B4455;\n",
              "      fill: #D2E3FC;\n",
              "    }\n",
              "\n",
              "    [theme=dark] .colab-df-convert:hover {\n",
              "      background-color: #434B5C;\n",
              "      box-shadow: 0px 1px 3px 1px rgba(0, 0, 0, 0.15);\n",
              "      filter: drop-shadow(0px 1px 2px rgba(0, 0, 0, 0.3));\n",
              "      fill: #FFFFFF;\n",
              "    }\n",
              "  </style>\n",
              "\n",
              "      <script>\n",
              "        const buttonEl =\n",
              "          document.querySelector('#df-cad38183-ec81-461b-81af-aceedb7bdea8 button.colab-df-convert');\n",
              "        buttonEl.style.display =\n",
              "          google.colab.kernel.accessAllowed ? 'block' : 'none';\n",
              "\n",
              "        async function convertToInteractive(key) {\n",
              "          const element = document.querySelector('#df-cad38183-ec81-461b-81af-aceedb7bdea8');\n",
              "          const dataTable =\n",
              "            await google.colab.kernel.invokeFunction('convertToInteractive',\n",
              "                                                     [key], {});\n",
              "          if (!dataTable) return;\n",
              "\n",
              "          const docLinkHtml = 'Like what you see? Visit the ' +\n",
              "            '<a target=\"_blank\" href=https://colab.research.google.com/notebooks/data_table.ipynb>data table notebook</a>'\n",
              "            + ' to learn more about interactive tables.';\n",
              "          element.innerHTML = '';\n",
              "          dataTable['output_type'] = 'display_data';\n",
              "          await google.colab.output.renderOutput(dataTable, element);\n",
              "          const docLink = document.createElement('div');\n",
              "          docLink.innerHTML = docLinkHtml;\n",
              "          element.appendChild(docLink);\n",
              "        }\n",
              "      </script>\n",
              "    </div>\n",
              "  </div>\n",
              "  "
            ],
            "text/plain": [
              "                         id               filename                mdate  \\\n",
              "0  BOK_20181130_20181218_S1  BOK_20181130_20181218  2018-11-30 10:00:00   \n",
              "1  BOK_20181130_20181218_S2  BOK_20181130_20181218  2018-11-30 10:00:00   \n",
              "2  BOK_20181130_20181218_S3  BOK_20181130_20181218  2018-11-30 10:00:00   \n",
              "3  BOK_20181130_20181218_S4  BOK_20181130_20181218  2018-11-30 10:00:00   \n",
              "4  BOK_20181130_20181218_S5  BOK_20181130_20181218  2018-11-30 10:00:00   \n",
              "\n",
              "                 rdate              section  \\\n",
              "0  2018-12-18 16:00:00   Economic Situation   \n",
              "1  2018-12-18 16:00:00     Foreign Currency   \n",
              "2  2018-12-18 16:00:00    Financial Markets   \n",
              "3  2018-12-18 16:00:00      Monetary Policy   \n",
              "4  2018-12-18 16:00:00  Participants’ Views   \n",
              "\n",
              "                                                text  \n",
              "0  일부 위원은 관련부서에서 지난 3/4분기 중 유로지역 경제성장 부진을 자동차 관련 ...  \n",
              "1  일부 위원은 그동안 글로벌펀드와 패시브펀드의 규모가 크게 확대되어 우리나라 자본유출...  \n",
              "2  일부 위원은 현재 대기업들이 전반적으로는 문제가 없지만, 건설 조선업 등에 속하는 ...  \n",
              "3  일부 위원은 최근 경기상황과 금융불균형 등을 고려할 때 확장적 재정정책의 필요성에는...  \n",
              "4  일부 위원은 최근 실물경제 성장경로의 하방위험이 다소 커진 것으로 보이고 물가도 상...  "
            ]
          },
          "execution_count": 3,
          "metadata": {},
          "output_type": "execute_result"
        }
      ],
      "source": [
        "import pandas as pd\n",
        "df = pd.read_csv(data_file)\n",
        "df.text = df.text.astype(str)\n",
        "df.head()"
      ]
    },
    {
      "cell_type": "code",
      "execution_count": 4,
      "metadata": {
        "colab": {
          "base_uri": "https://localhost:8080/"
        },
        "id": "ca2I_k50IP2G",
        "outputId": "dac6987b-e156-454d-c0e8-884100454ace"
      },
      "outputs": [
        {
          "name": "stderr",
          "output_type": "stream",
          "text": [
            "[ekorpkit]: Initializing mecab...)\n"
          ]
        }
      ],
      "source": [
        "from ekorpkit.preprocessors.tokenizer import MecabTokenizer\n",
        "\n",
        "mecab = MecabTokenizer()"
      ]
    },
    {
      "cell_type": "code",
      "execution_count": 20,
      "metadata": {
        "colab": {
          "base_uri": "https://localhost:8080/"
        },
        "id": "Dt5RD02uIP2H",
        "outputId": "75ad8980-9f89-4e61-a2da-9bb71045728c"
      },
      "outputs": [
        {
          "data": {
            "text/plain": [
              "76"
            ]
          },
          "execution_count": 20,
          "metadata": {},
          "output_type": "execute_result"
        }
      ],
      "source": [
        "corpus = df.text.to_list()\n",
        "doc = mecab.tokenize_article(corpus[0]).split('\\n')\n",
        "len(doc)"
      ]
    },
    {
      "cell_type": "markdown",
      "metadata": {
        "id": "HU9RYedOIP2H"
      },
      "source": [
        "# Build bigram dictionary"
      ]
    },
    {
      "cell_type": "markdown",
      "metadata": {
        "id": "UYdmBD49IP2I"
      },
      "source": [
        "bigram_extractor 는 min_count 이상인 bigram 만을 선택하는 extractor\n",
        "\n",
        "to_bigram 은 두 개의 list 를 zip 으로 묶어서 bigram list 을 만드는 함수"
      ]
    },
    {
      "cell_type": "code",
      "execution_count": 21,
      "metadata": {
        "colab": {
          "base_uri": "https://localhost:8080/"
        },
        "id": "XPy7f1oTIP2I",
        "outputId": "c0efe121-3413-4968-b9e5-63b374f789b3"
      },
      "outputs": [
        {
          "data": {
            "text/plain": [
              "18"
            ]
          },
          "execution_count": 21,
          "metadata": {},
          "output_type": "execute_result"
        }
      ],
      "source": [
        "from collections import Counter\n",
        "\n",
        "def bigram_extractor(sents, min_count=10):\n",
        "\n",
        "    def to_bigram(tokens):\n",
        "        bigrams = [(t0, t1) for t0, t1 in zip(tokens, tokens[1:])]\n",
        "        return bigrams\n",
        "\n",
        "    unigram_counter = Counter(word for sent in sents for word in sent.split())\n",
        "    bigram_counter = Counter(\n",
        "        (bigram for sent in sents for bigram in to_bigram(sent.split()))\n",
        "    )\n",
        "\n",
        "    bigram_dictionary = {\n",
        "        bigram:count for bigram, count in bigram_counter.items()\n",
        "        if count >= min_count and '/NN' in bigram[0]\n",
        "    }\n",
        "\n",
        "    def score(bigram, count):\n",
        "        a = unigram_counter[bigram[0]]\n",
        "        b = unigram_counter[bigram[1]]\n",
        "        s = (count - min_count) / (a * b)\n",
        "        return s\n",
        "\n",
        "    bigram_score = {\n",
        "        bigram:score(bigram, count) for bigram, count in bigram_dictionary.items()\n",
        "    }\n",
        "\n",
        "    return bigram_score\n",
        "\n",
        "bigrams = bigram_extractor(doc)\n",
        "len(bigrams)"
      ]
    },
    {
      "cell_type": "code",
      "execution_count": 22,
      "metadata": {
        "colab": {
          "base_uri": "https://localhost:8080/"
        },
        "id": "K7xhSoN1IP2J",
        "outputId": "d8219bb9-a0a6-457b-bc9e-21051141f6ec"
      },
      "outputs": [
        {
          "data": {
            "text/plain": [
              "[(('견해/NNG', '를/JKO'), 0.006617647058823529),\n",
              " (('것/NNB', '으로/JKB'), 0.005944931163954944),\n",
              " (('부서/NNG', '에서/JKB'), 0.005555555555555556),\n",
              " (('언급/NNG', '하/XSV'), 0.0032921810699588477),\n",
              " (('의견/NNG', '을/JKO'), 0.0015290519877675841),\n",
              " (('필요/NNG', '가/JKS'), 0.0012406947890818859),\n",
              " (('영향/NNG', '을/JKO'), 0.0011467889908256881),\n",
              " (('수/NNB', '/SP'), 0.00018722696068233826),\n",
              " (('최근/NNG', '/SP'), 0.0001594896331738437),\n",
              " (('경우/NNG', '/SP'), 0.00011961722488038278)]"
            ]
          },
          "execution_count": 22,
          "metadata": {},
          "output_type": "execute_result"
        }
      ],
      "source": [
        "sorted(bigrams.items(), key=lambda x:-x[1])[5:15]"
      ]
    },
    {
      "cell_type": "markdown",
      "metadata": {
        "id": "7G2Lhm3ZIP2K"
      },
      "source": [
        "# Bigram tokenizer\n",
        "\n",
        "BigramTokenizer 는 base tokenizer 인 tagger 와 bigrams 를 입력받는 class"
      ]
    },
    {
      "cell_type": "code",
      "execution_count": 34,
      "metadata": {
        "collapsed": true,
        "id": "bx46dyoNIP2K"
      },
      "outputs": [],
      "source": [
        "class BigramTokenizer:\n",
        "\n",
        "    def __init__(self, bigrams, tokenize=lambda x:x.split()):\n",
        "        self.bigrams = bigrams\n",
        "        self.tokenize = tokenize\n",
        "\n",
        "    def __call__(self, sent):\n",
        "        if not sent:\n",
        "            return []\n",
        "\n",
        "        unigrams = self.tokenize(sent)\n",
        "\n",
        "        bigrams = [(t0, t1) for t0, t1 in zip(unigrams, unigrams[1:])]\n",
        "        bigrams = [bigram for bigram in bigrams if bigram in self.bigrams]\n",
        "        bigrams = [f'{t0}-{t1}' for t0, t1 in bigrams]\n",
        "\n",
        "        return unigrams + bigrams\n",
        "\n",
        "bigram_tokenizer = BigramTokenizer(bigrams)"
      ]
    },
    {
      "cell_type": "code",
      "execution_count": 35,
      "metadata": {
        "collapsed": true,
        "id": "DjT6ylEaIP2L"
      },
      "outputs": [],
      "source": [
        "sent = doc[0]"
      ]
    },
    {
      "cell_type": "markdown",
      "metadata": {
        "id": "OtDpMkCxIP2L"
      },
      "source": [
        "bigram_tokenizer(sent) 로 클래스를 호출 "
      ]
    },
    {
      "cell_type": "code",
      "execution_count": 36,
      "metadata": {
        "colab": {
          "base_uri": "https://localhost:8080/"
        },
        "id": "PgVw0lvCIP2L",
        "outputId": "2de9c0c9-cef8-4f55-a2e2-051c7e0e2292"
      },
      "outputs": [
        {
          "data": {
            "text/plain": [
              "['일부/NNG',\n",
              " '/SP',\n",
              " '위원/NNG',\n",
              " '은/JX',\n",
              " '/SP',\n",
              " '관련/NNG',\n",
              " '부서/NNG',\n",
              " '에서/JKB',\n",
              " '/SP',\n",
              " '지난/VV+ETM',\n",
              " '/SP',\n",
              " '3/SN',\n",
              " '//SC',\n",
              " '4/SN',\n",
              " '분기/NNG',\n",
              " '/SP',\n",
              " '중/NNB',\n",
              " '/SP',\n",
              " '유로/NNG',\n",
              " '지역/NNG',\n",
              " '/SP',\n",
              " '경제/NNG',\n",
              " '성장/NNG',\n",
              " '/SP',\n",
              " '부진/NNG',\n",
              " '을/JKO',\n",
              " '/SP',\n",
              " '자동차/NNG',\n",
              " '/SP',\n",
              " '관련/NNG',\n",
              " '/SP',\n",
              " '규제/NNG',\n",
              " '/SP',\n",
              " '등/NNB',\n",
              " '/SP',\n",
              " '일시/NNG',\n",
              " '적/XSN',\n",
              " '/SP',\n",
              " '요인/NNG',\n",
              " '에/JKB',\n",
              " '/SP',\n",
              " '의한/VV+ETM',\n",
              " '/SP',\n",
              " '것/NNB',\n",
              " '으로/JKB',\n",
              " '/SP',\n",
              " '평가/NNG',\n",
              " '한/XSA+ETM',\n",
              " '/SP',\n",
              " '것/NNB',\n",
              " '과/JKB',\n",
              " '/SP',\n",
              " '관련/NNG',\n",
              " '하/XSV',\n",
              " '여/EC',\n",
              " ',/SC',\n",
              " '/SP',\n",
              " '동/MM',\n",
              " '/SP',\n",
              " '요인/NNG',\n",
              " '만/JX',\n",
              " '으로/JKB',\n",
              " '는/JX',\n",
              " '/SP',\n",
              " '성장/NNG',\n",
              " '률/XSN',\n",
              " '/SP',\n",
              " '둔화/NNG',\n",
              " '/SP',\n",
              " '설명/NNG',\n",
              " '에/JKB',\n",
              " '/SP',\n",
              " '충분/XR',\n",
              " '하/XSA',\n",
              " '지/EC',\n",
              " '/SP',\n",
              " '않/VX',\n",
              " '아/EC',\n",
              " '/SP',\n",
              " '보인다고/VV+EC',\n",
              " '/SP',\n",
              " '언급/NNG',\n",
              " '하/XSV',\n",
              " '였/EP',\n",
              " '음/ETN',\n",
              " './SF',\n",
              " '일부/NNG-/SP',\n",
              " '위원/NNG-은/JX',\n",
              " '관련/NNG-부서/NNG',\n",
              " '부서/NNG-에서/JKB',\n",
              " '등/NNB-/SP',\n",
              " '것/NNB-으로/JKB',\n",
              " '성장/NNG-률/XSN',\n",
              " '언급/NNG-하/XSV']"
            ]
          },
          "execution_count": 36,
          "metadata": {},
          "output_type": "execute_result"
        }
      ],
      "source": [
        "bigram_tokenizer(sent)"
      ]
    },
    {
      "cell_type": "markdown",
      "metadata": {
        "id": "bJBKRmfCIP2M"
      },
      "source": [
        "이를 CountVectorizer 의 tokenizer 로 입력"
      ]
    },
    {
      "cell_type": "code",
      "execution_count": 27,
      "metadata": {
        "collapsed": true,
        "id": "ygI9cE_WIP2M"
      },
      "outputs": [],
      "source": [
        "from sklearn.feature_extraction.text import CountVectorizer\n",
        "\n",
        "vectorizer = CountVectorizer(tokenizer=bigram_tokenizer)\n",
        "x = vectorizer.fit_transform(doc)"
      ]
    },
    {
      "cell_type": "code",
      "execution_count": 28,
      "metadata": {
        "colab": {
          "base_uri": "https://localhost:8080/"
        },
        "id": "0g_o404kIP2M",
        "outputId": "7bee7aef-d732-4c61-af6e-b0616a0c9081"
      },
      "outputs": [
        {
          "data": {
            "text/plain": [
              "(76, 807)"
            ]
          },
          "execution_count": 28,
          "metadata": {},
          "output_type": "execute_result"
        }
      ],
      "source": [
        "x.shape"
      ]
    },
    {
      "cell_type": "markdown",
      "metadata": {
        "id": "ruGgfy91IP2M"
      },
      "source": [
        "# All bigrams\n",
        "\n",
        "sklearn.feature_extraction.text.CountVectorizer 의 ngram_range=(1, 2) 로 설정한다면, 가능한 모든 종류의 bigram 을 term 으로 이용"
      ]
    },
    {
      "cell_type": "code",
      "execution_count": 31,
      "metadata": {
        "collapsed": true,
        "id": "CMJSzEDiIP2M"
      },
      "outputs": [],
      "source": [
        "from sklearn.feature_extraction.text import CountVectorizer\n",
        "\n",
        "def all_bigram_tokenizer(sent):\n",
        "    if not sent:\n",
        "        return []\n",
        "    return sent.split()\n",
        "\n",
        "vectorizer_ = CountVectorizer(\n",
        "    ngram_range=(1,2),\n",
        "    tokenizer=all_bigram_tokenizer\n",
        ")\n",
        "\n",
        "x_ = vectorizer_.fit_transform(doc)"
      ]
    },
    {
      "cell_type": "code",
      "execution_count": 32,
      "metadata": {
        "colab": {
          "base_uri": "https://localhost:8080/"
        },
        "id": "rQKyiKTCIP2N",
        "outputId": "26a4d85f-0c20-4635-fc0f-146feaf28d12"
      },
      "outputs": [
        {
          "data": {
            "text/plain": [
              "(76, 2845)"
            ]
          },
          "execution_count": 32,
          "metadata": {},
          "output_type": "execute_result"
        }
      ],
      "source": [
        "x_.shape"
      ]
    },
    {
      "cell_type": "code",
      "execution_count": 33,
      "metadata": {
        "collapsed": true,
        "id": "dNn55b3GIP2N"
      },
      "outputs": [],
      "source": []
    },
    {
      "cell_type": "code",
      "execution_count": null,
      "metadata": {
        "id": "SKaTyLkZL-UP"
      },
      "outputs": [],
      "source": []
    }
  ],
  "metadata": {
    "colab": {
      "name": "03_ngram.ipynb",
      "provenance": []
    },
    "kernelspec": {
      "display_name": "Python 3",
      "language": "python",
      "name": "python3"
    },
    "language_info": {
      "codemirror_mode": {
        "name": "ipython",
        "version": 3
      },
      "file_extension": ".py",
      "mimetype": "text/x-python",
      "name": "python",
      "nbconvert_exporter": "python",
      "pygments_lexer": "ipython3",
      "version": "3.6.2"
    }
  },
  "nbformat": 4,
  "nbformat_minor": 0
}
