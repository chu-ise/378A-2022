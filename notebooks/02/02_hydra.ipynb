{
  "cells": [
    {
      "cell_type": "markdown",
      "metadata": {
        "id": "9t8T3u2hjyWl"
      },
      "source": [
        "<a href=\"https://colab.research.google.com/github/chu-ise/378A-2022/blob/main/notebooks/02/02_hydra.ipynb\" target=\"_parent\"><img src=\"https://colab.research.google.com/assets/colab-badge.svg\" alt=\"Open In Colab\"/></a>"
      ]
    },
    {
      "cell_type": "code",
      "execution_count": 1,
      "metadata": {
        "id": "WdxN7OEwjyWo"
      },
      "outputs": [],
      "source": [
        "%load_ext autoreload\n",
        "%autoreload 2"
      ]
    },
    {
      "cell_type": "code",
      "execution_count": 2,
      "metadata": {
        "id": "G3giR9CRjyWo"
      },
      "outputs": [],
      "source": [
        "%%capture\n",
        "%pip install gdown hydra-core"
      ]
    },
    {
      "cell_type": "code",
      "execution_count": 10,
      "metadata": {
        "colab": {
          "base_uri": "https://localhost:8080/"
        },
        "id": "bn0zGyqijyWp",
        "outputId": "f0ff8ec6-00a1-4d4b-cf10-9d9e1d5ccd8e"
      },
      "outputs": [
        {
          "name": "stderr",
          "output_type": "stream",
          "text": [
            "Downloading...\n",
            "From: https://drive.google.com/uc?id=13_3pQBnPtF4ASy5vFouh67HKLoEgJSdB\n",
            "To: /content/cloud_app.zip\n",
            "100%|██████████| 3.27k/3.27k [00:00<00:00, 2.87MB/s]"
          ]
        },
        {
          "name": "stdout",
          "output_type": "stream",
          "text": [
            "Archive:  cloud_app.zip\n",
            "   creating: cloud_app/\n",
            "   creating: cloud_app/conf/\n",
            "  inflating: cloud_app/conf/__init__.py  \n",
            "   creating: cloud_app/conf/application/\n",
            "  inflating: cloud_app/conf/application/bananas.yaml  \n",
            "  inflating: cloud_app/conf/application/donkey.yaml  \n",
            "   creating: cloud_app/conf/cloud_provider/\n",
            "  inflating: cloud_app/conf/cloud_provider/aws.yaml  \n",
            "  inflating: cloud_app/conf/cloud_provider/local.yaml  \n",
            "  inflating: cloud_app/conf/config.yaml  \n",
            "   creating: cloud_app/conf/db/\n",
            "  inflating: cloud_app/conf/db/mysql.yaml  \n",
            "  inflating: cloud_app/conf/db/sqlite.yaml  \n",
            "   creating: cloud_app/conf/environment/\n",
            "  inflating: cloud_app/conf/environment/production.yaml  \n",
            "  inflating: cloud_app/conf/environment/testing.yaml  \n"
          ]
        },
        {
          "name": "stderr",
          "output_type": "stream",
          "text": [
            "\n"
          ]
        }
      ],
      "source": [
        "import gdown\n",
        "import os\n",
        "id = \"13_3pQBnPtF4ASy5vFouh67HKLoEgJSdB\"\n",
        "\n",
        "data_file = \"cloud_app.zip\"\n",
        "gdown.download(id=id, output=data_file, quiet=False)\n",
        "!unzip $data_file"
      ]
    },
    {
      "cell_type": "code",
      "execution_count": 11,
      "metadata": {
        "id": "oHZkL9oijyWp",
        "scrolled": true
      },
      "outputs": [],
      "source": [
        "import os\n",
        "from hydra import initialize, initialize_config_module, initialize_config_dir, compose\n",
        "from omegaconf import OmegaConf"
      ]
    },
    {
      "cell_type": "markdown",
      "metadata": {
        "id": "93CZeM7njyWp"
      },
      "source": [
        "# Initializing Hydra\n",
        "There are several ways to initialize. See the [API docs](https://hydra.cc/docs/next/advanced/compose_api/#api-documentation) for full details.\n",
        "All methods support both a function call style that changes the global state, and a context style that cleans up when the scope exits.\n",
        "\n",
        "## initialize()\n",
        "Initializes Hydra and add the config_path to the config search path.\n",
        "config_path is relative to the parent of the caller, in this case it is realtive to the directory containing\n",
        "this Notebook."
      ]
    },
    {
      "cell_type": "code",
      "execution_count": 12,
      "metadata": {
        "colab": {
          "base_uri": "https://localhost:8080/"
        },
        "id": "QeV_9xFSjyWq",
        "outputId": "c77dfbb5-0450-4076-cb5d-25cf68ecb0ef"
      },
      "outputs": [
        {
          "name": "stdout",
          "output_type": "stream",
          "text": [
            "{'db': {'driver': 'mysql', 'user': '???', 'pass': '???'}}\n"
          ]
        }
      ],
      "source": [
        "with initialize(config_path=\"cloud_app/conf\"):\n",
        "    cfg = compose(overrides=[\"+db=mysql\"])\n",
        "    print(cfg)"
      ]
    },
    {
      "cell_type": "markdown",
      "metadata": {
        "id": "6xmevFFNjyWr"
      },
      "source": [
        "## initialize_config_module()\n",
        "Initializes Hydra and add the config_module to the config search path.  \n",
        "The config module must be importable (an `__init__.py` must exist at its top level)"
      ]
    },
    {
      "cell_type": "code",
      "execution_count": 13,
      "metadata": {
        "colab": {
          "base_uri": "https://localhost:8080/"
        },
        "id": "AsCgo6YWjyWr",
        "outputId": "01befb98-7535-4bfd-b567-9c2b11090d86"
      },
      "outputs": [
        {
          "name": "stdout",
          "output_type": "stream",
          "text": [
            "{'db': {'driver': 'mysql', 'user': '???', 'pass': '???'}}\n"
          ]
        }
      ],
      "source": [
        "with initialize_config_module(config_module=\"cloud_app.conf\"):\n",
        "    cfg = compose(overrides=[\"+db=mysql\"])\n",
        "    print(cfg)"
      ]
    },
    {
      "cell_type": "markdown",
      "metadata": {
        "id": "Q1bQgH7ojyWs"
      },
      "source": [
        "## initialize_config_dir()\n",
        "Initializes Hydra and add the config_path to the config search path.\n",
        "The config_path must be an absolute path on the file system."
      ]
    },
    {
      "cell_type": "code",
      "execution_count": 14,
      "metadata": {
        "colab": {
          "base_uri": "https://localhost:8080/"
        },
        "id": "zBq3g0BojyWs",
        "outputId": "eb521e85-2493-4be2-b224-32366f2b5926"
      },
      "outputs": [
        {
          "name": "stdout",
          "output_type": "stream",
          "text": [
            "{'db': {'driver': 'mysql', 'user': '???', 'pass': '???'}}\n"
          ]
        }
      ],
      "source": [
        "abs_config_dir=os.path.abspath(\"cloud_app/conf\")\n",
        "with initialize_config_dir(config_dir=abs_config_dir):\n",
        "    cfg = compose(overrides=[\"+db=mysql\"])\n",
        "    print(cfg)"
      ]
    },
    {
      "cell_type": "markdown",
      "metadata": {
        "id": "fTuc4gTyjyWs"
      },
      "source": [
        "## Global initialization\n",
        "Calling each of the initilizaiton methods outside of a context changes the global state."
      ]
    },
    {
      "cell_type": "code",
      "execution_count": 15,
      "metadata": {
        "colab": {
          "base_uri": "https://localhost:8080/"
        },
        "id": "EeNh0_9OjyWs",
        "outputId": "3f31b39b-51ac-4283-dc48-226924f27b84"
      },
      "outputs": [
        {
          "data": {
            "text/plain": [
              "{'db': {'driver': 'mysql', 'user': '???', 'pass': '???'}}"
            ]
          },
          "execution_count": 15,
          "metadata": {},
          "output_type": "execute_result"
        }
      ],
      "source": [
        "initialize(config_path=\"cloud_app/conf\")\n",
        "compose(overrides=[\"+db=mysql\"])"
      ]
    },
    {
      "cell_type": "markdown",
      "metadata": {
        "id": "8Z8SDFBUjyWs"
      },
      "source": [
        "# Config composition\n",
        "Below are some more interesting demonstrations of config composition\n",
        "## Config Structure\n",
        "The `__init__.py` file is needed is needed to help Python find the config files in some scenarios (It can be empty).  \n",
        "```\n",
        "conf/\n",
        "├── application\n",
        "│   ├── bananas.yaml\n",
        "│   └── donkey.yaml\n",
        "├── cloud_provider\n",
        "│   ├── aws.yaml\n",
        "│   └── local.yaml\n",
        "├── db\n",
        "│   ├── mysql.yaml\n",
        "│   └── sqlite.yaml\n",
        "├── environment\n",
        "│   ├── production.yaml\n",
        "│   └── testing.yaml\n",
        "├── config.yaml\n",
        "└── __init__.py\n",
        "```"
      ]
    },
    {
      "cell_type": "code",
      "execution_count": 16,
      "metadata": {
        "colab": {
          "base_uri": "https://localhost:8080/"
        },
        "id": "g6xCICokjyWt",
        "outputId": "b8723009-2398-4bcb-dd09-a22a4e867ebc"
      },
      "outputs": [
        {
          "name": "stdout",
          "output_type": "stream",
          "text": [
            "db:\n",
            "  driver: mysql\n",
            "  user: mysql\n",
            "  pass: r4Zn*jQ9JB1Rz2kfz\n",
            "donkey:\n",
            "  name: kong\n",
            "  rank: king\n",
            "\n"
          ]
        }
      ],
      "source": [
        "# compose application specific config (in this case the applicaiton is \"donkey\")\n",
        "cfg=compose(overrides= [\"+db=mysql\", \"+environment=production\", \"+application=donkey\"])\n",
        "print(OmegaConf.to_yaml(cfg))"
      ]
    },
    {
      "cell_type": "code",
      "execution_count": 17,
      "metadata": {
        "colab": {
          "base_uri": "https://localhost:8080/"
        },
        "id": "Wv1Ur-GcjyWt",
        "outputId": "33a8b92d-7423-4c9f-a730-9d7d1c4ab65c"
      },
      "outputs": [
        {
          "name": "stdout",
          "output_type": "stream",
          "text": [
            "db:\n",
            "  driver: sqlite\n",
            "  user: test\n",
            "  pass: test\n",
            "  file: test.db\n",
            "cloud:\n",
            "  name: local\n",
            "  host: localhost\n",
            "  port: 9876\n",
            "\n"
          ]
        }
      ],
      "source": [
        "# compose from config.yaml, this composes a bunch of defaults in:\n",
        "cfg=compose(config_name=\"config.yaml\")\n",
        "print(OmegaConf.to_yaml(cfg))"
      ]
    },
    {
      "cell_type": "code",
      "execution_count": 18,
      "metadata": {
        "colab": {
          "base_uri": "https://localhost:8080/"
        },
        "id": "_sSIDrKhjyWt",
        "outputId": "b8d31cc9-b32d-4fe5-c8d1-84bba245429f",
        "pycharm": {
          "name": "#%%\n"
        }
      },
      "outputs": [
        {
          "name": "stdout",
          "output_type": "stream",
          "text": [
            "db:\n",
            "  driver: sqlite\n",
            "  user: mysql\n",
            "  pass: r4Zn*jQ9JB1Rz2kfz\n",
            "  file: test.db\n",
            "cloud:\n",
            "  name: aws\n",
            "  api_key: __SOMETHING_FROM_AN_ENV_VARIABLE__\n",
            "  ami_id: MY_AMI_ID\n",
            "\n"
          ]
        }
      ],
      "source": [
        "import os\n",
        "os.environ[\"AWS_API_KEY\"] = \"__SOMETHING_FROM_AN_ENV_VARIABLE__\"\n",
        "\n",
        "# compose from config.yaml and override from the default testing\n",
        "# environment to production and cloud provider to aws.\n",
        "# Also override the ami id\n",
        "\n",
        "cfg=compose(\n",
        "    config_name=\"config.yaml\", \n",
        "    overrides=[\n",
        "        \"cloud_provider=aws\",\n",
        "        \"environment=production\",\n",
        "        \"cloud.ami_id=MY_AMI_ID\",\n",
        "    ]\n",
        ")\n",
        "print(OmegaConf.to_yaml(cfg, resolve=True))"
      ]
    },
    {
      "cell_type": "code",
      "execution_count": null,
      "metadata": {
        "id": "i02DHaGXla68"
      },
      "outputs": [],
      "source": []
    }
  ],
  "metadata": {
    "colab": {
      "include_colab_link": true,
      "name": "02_hydra.ipynb",
      "provenance": []
    },
    "kernelspec": {
      "display_name": "Python 3",
      "language": "python",
      "name": "python3"
    },
    "language_info": {
      "codemirror_mode": {
        "name": "ipython",
        "version": 3
      },
      "file_extension": ".py",
      "mimetype": "text/x-python",
      "name": "python",
      "nbconvert_exporter": "python",
      "pygments_lexer": "ipython3",
      "version": "3.8.2"
    }
  },
  "nbformat": 4,
  "nbformat_minor": 0
}
