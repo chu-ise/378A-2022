{
  "cells": [
    {
      "cell_type": "markdown",
      "metadata": {
        "colab_type": "text",
        "id": "view-in-github"
      },
      "source": [
        "<a href=\"https://colab.research.google.com/github/chu-ise/378A-2022/blob/main/notebooks/02/01_basic.ipynb\" target=\"_parent\"><img src=\"https://colab.research.google.com/assets/colab-badge.svg\" alt=\"Open In Colab\"/></a>"
      ]
    },
    {
      "cell_type": "markdown",
      "metadata": {
        "id": "DjhDsneUPblF"
      },
      "source": [
        "Environment setup to persist data in Google Drive"
      ]
    },
    {
      "cell_type": "code",
      "execution_count": 1,
      "metadata": {
        "colab": {
          "base_uri": "https://localhost:8080/"
        },
        "id": "GDY8BtSle0Go",
        "outputId": "a793758e-5a87-42ca-dde9-47e67f89ea4a"
      },
      "outputs": [
        {
          "name": "stdout",
          "output_type": "stream",
          "text": [
            "Mounted at /content/drive\n",
            "WORKSPACE_DIR = /content/workspace\n"
          ]
        }
      ],
      "source": [
        "import os, sys\n",
        "IN_COLAB = 'google.colab' in sys.modules\n",
        "if IN_COLAB:\n",
        "    from google.colab import drive\n",
        "    drive.mount(\"/content/drive\")\n",
        "    !ln -s \"/content/drive/My Drive/colab_workspace\" workspace\n",
        "    WORKSPACE_DIR = \"/content/workspace\"\n",
        "else:\n",
        "    WORKSPACE_DIR = \"../workspace\" \n",
        "print(f'WORKSPACE_DIR = {WORKSPACE_DIR}')\n",
        "data_dir = os.path.join(WORKSPACE_DIR, \"data\")\n",
        "os.makedirs(data_dir, exist_ok=True)"
      ]
    },
    {
      "cell_type": "code",
      "execution_count": 2,
      "metadata": {
        "id": "a-U1PibEPblK"
      },
      "outputs": [],
      "source": [
        "%%capture\n",
        "%pip install gdown numpy pandas matplotlib"
      ]
    },
    {
      "cell_type": "markdown",
      "metadata": {
        "id": "BdnTDvCtPblL"
      },
      "source": [
        "# 01. Python Basics for Text"
      ]
    },
    {
      "cell_type": "code",
      "execution_count": 3,
      "metadata": {
        "id": "zBxY0vcbPblL"
      },
      "outputs": [],
      "source": [
        "# set random seed\n",
        "import numpy as np\n",
        "np.random.seed(4)"
      ]
    },
    {
      "cell_type": "code",
      "execution_count": 4,
      "metadata": {
        "colab": {
          "base_uri": "https://localhost:8080/",
          "height": 107
        },
        "id": "BbIVt3Y_PblM",
        "outputId": "96a7ea66-1afc-4ca3-933c-4809fd8d1772"
      },
      "outputs": [
        {
          "name": "stderr",
          "output_type": "stream",
          "text": [
            "Downloading...\n",
            "From: https://drive.google.com/uc?id=1uDxxBNZ-qZscPjdEam0QEjTdKcFUBMuy\n",
            "To: /content/bok_minutes.csv\n",
            "100%|██████████| 10.1M/10.1M [00:00<00:00, 43.0MB/s]\n"
          ]
        },
        {
          "data": {
            "application/vnd.google.colaboratory.intrinsic+json": {
              "type": "string"
            },
            "text/plain": [
              "'bok_minutes.csv'"
            ]
          },
          "execution_count": 4,
          "metadata": {},
          "output_type": "execute_result"
        }
      ],
      "source": [
        "import gdown\n",
        "import os\n",
        "id = \"1uDxxBNZ-qZscPjdEam0QEjTdKcFUBMuy\"\n",
        "\n",
        "data_file = \"bok_minutes.csv\"\n",
        "gdown.download(id=id, output=data_file, quiet=False, fuzzy=True)"
      ]
    },
    {
      "cell_type": "code",
      "execution_count": 5,
      "metadata": {
        "colab": {
          "base_uri": "https://localhost:8080/",
          "height": 206
        },
        "id": "mzjZmIcrPblM",
        "outputId": "de604118-0a39-4b6c-f0fe-9d89922cacf5"
      },
      "outputs": [
        {
          "data": {
            "text/html": [
              "\n",
              "  <div id=\"df-62290f89-f467-4045-aeb2-915247fad0c7\">\n",
              "    <div class=\"colab-df-container\">\n",
              "      <div>\n",
              "<style scoped>\n",
              "    .dataframe tbody tr th:only-of-type {\n",
              "        vertical-align: middle;\n",
              "    }\n",
              "\n",
              "    .dataframe tbody tr th {\n",
              "        vertical-align: top;\n",
              "    }\n",
              "\n",
              "    .dataframe thead th {\n",
              "        text-align: right;\n",
              "    }\n",
              "</style>\n",
              "<table border=\"1\" class=\"dataframe\">\n",
              "  <thead>\n",
              "    <tr style=\"text-align: right;\">\n",
              "      <th></th>\n",
              "      <th>id</th>\n",
              "      <th>filename</th>\n",
              "      <th>mdate</th>\n",
              "      <th>rdate</th>\n",
              "      <th>section</th>\n",
              "      <th>text</th>\n",
              "    </tr>\n",
              "  </thead>\n",
              "  <tbody>\n",
              "    <tr>\n",
              "      <th>0</th>\n",
              "      <td>BOK_20181130_20181218_S1</td>\n",
              "      <td>BOK_20181130_20181218</td>\n",
              "      <td>2018-11-30 10:00:00</td>\n",
              "      <td>2018-12-18 16:00:00</td>\n",
              "      <td>Economic Situation</td>\n",
              "      <td>일부 위원은 관련부서에서 지난 3/4분기 중 유로지역 경제성장 부진을 자동차 관련 ...</td>\n",
              "    </tr>\n",
              "    <tr>\n",
              "      <th>1</th>\n",
              "      <td>BOK_20181130_20181218_S2</td>\n",
              "      <td>BOK_20181130_20181218</td>\n",
              "      <td>2018-11-30 10:00:00</td>\n",
              "      <td>2018-12-18 16:00:00</td>\n",
              "      <td>Foreign Currency</td>\n",
              "      <td>일부 위원은 그동안 글로벌펀드와 패시브펀드의 규모가 크게 확대되어 우리나라 자본유출...</td>\n",
              "    </tr>\n",
              "    <tr>\n",
              "      <th>2</th>\n",
              "      <td>BOK_20181130_20181218_S3</td>\n",
              "      <td>BOK_20181130_20181218</td>\n",
              "      <td>2018-11-30 10:00:00</td>\n",
              "      <td>2018-12-18 16:00:00</td>\n",
              "      <td>Financial Markets</td>\n",
              "      <td>일부 위원은 현재 대기업들이 전반적으로는 문제가 없지만, 건설 조선업 등에 속하는 ...</td>\n",
              "    </tr>\n",
              "    <tr>\n",
              "      <th>3</th>\n",
              "      <td>BOK_20181130_20181218_S4</td>\n",
              "      <td>BOK_20181130_20181218</td>\n",
              "      <td>2018-11-30 10:00:00</td>\n",
              "      <td>2018-12-18 16:00:00</td>\n",
              "      <td>Monetary Policy</td>\n",
              "      <td>일부 위원은 최근 경기상황과 금융불균형 등을 고려할 때 확장적 재정정책의 필요성에는...</td>\n",
              "    </tr>\n",
              "    <tr>\n",
              "      <th>4</th>\n",
              "      <td>BOK_20181130_20181218_S5</td>\n",
              "      <td>BOK_20181130_20181218</td>\n",
              "      <td>2018-11-30 10:00:00</td>\n",
              "      <td>2018-12-18 16:00:00</td>\n",
              "      <td>Participants’ Views</td>\n",
              "      <td>일부 위원은 최근 실물경제 성장경로의 하방위험이 다소 커진 것으로 보이고 물가도 상...</td>\n",
              "    </tr>\n",
              "  </tbody>\n",
              "</table>\n",
              "</div>\n",
              "      <button class=\"colab-df-convert\" onclick=\"convertToInteractive('df-62290f89-f467-4045-aeb2-915247fad0c7')\"\n",
              "              title=\"Convert this dataframe to an interactive table.\"\n",
              "              style=\"display:none;\">\n",
              "        \n",
              "  <svg xmlns=\"http://www.w3.org/2000/svg\" height=\"24px\"viewBox=\"0 0 24 24\"\n",
              "       width=\"24px\">\n",
              "    <path d=\"M0 0h24v24H0V0z\" fill=\"none\"/>\n",
              "    <path d=\"M18.56 5.44l.94 2.06.94-2.06 2.06-.94-2.06-.94-.94-2.06-.94 2.06-2.06.94zm-11 1L8.5 8.5l.94-2.06 2.06-.94-2.06-.94L8.5 2.5l-.94 2.06-2.06.94zm10 10l.94 2.06.94-2.06 2.06-.94-2.06-.94-.94-2.06-.94 2.06-2.06.94z\"/><path d=\"M17.41 7.96l-1.37-1.37c-.4-.4-.92-.59-1.43-.59-.52 0-1.04.2-1.43.59L10.3 9.45l-7.72 7.72c-.78.78-.78 2.05 0 2.83L4 21.41c.39.39.9.59 1.41.59.51 0 1.02-.2 1.41-.59l7.78-7.78 2.81-2.81c.8-.78.8-2.07 0-2.86zM5.41 20L4 18.59l7.72-7.72 1.47 1.35L5.41 20z\"/>\n",
              "  </svg>\n",
              "      </button>\n",
              "      \n",
              "  <style>\n",
              "    .colab-df-container {\n",
              "      display:flex;\n",
              "      flex-wrap:wrap;\n",
              "      gap: 12px;\n",
              "    }\n",
              "\n",
              "    .colab-df-convert {\n",
              "      background-color: #E8F0FE;\n",
              "      border: none;\n",
              "      border-radius: 50%;\n",
              "      cursor: pointer;\n",
              "      display: none;\n",
              "      fill: #1967D2;\n",
              "      height: 32px;\n",
              "      padding: 0 0 0 0;\n",
              "      width: 32px;\n",
              "    }\n",
              "\n",
              "    .colab-df-convert:hover {\n",
              "      background-color: #E2EBFA;\n",
              "      box-shadow: 0px 1px 2px rgba(60, 64, 67, 0.3), 0px 1px 3px 1px rgba(60, 64, 67, 0.15);\n",
              "      fill: #174EA6;\n",
              "    }\n",
              "\n",
              "    [theme=dark] .colab-df-convert {\n",
              "      background-color: #3B4455;\n",
              "      fill: #D2E3FC;\n",
              "    }\n",
              "\n",
              "    [theme=dark] .colab-df-convert:hover {\n",
              "      background-color: #434B5C;\n",
              "      box-shadow: 0px 1px 3px 1px rgba(0, 0, 0, 0.15);\n",
              "      filter: drop-shadow(0px 1px 2px rgba(0, 0, 0, 0.3));\n",
              "      fill: #FFFFFF;\n",
              "    }\n",
              "  </style>\n",
              "\n",
              "      <script>\n",
              "        const buttonEl =\n",
              "          document.querySelector('#df-62290f89-f467-4045-aeb2-915247fad0c7 button.colab-df-convert');\n",
              "        buttonEl.style.display =\n",
              "          google.colab.kernel.accessAllowed ? 'block' : 'none';\n",
              "\n",
              "        async function convertToInteractive(key) {\n",
              "          const element = document.querySelector('#df-62290f89-f467-4045-aeb2-915247fad0c7');\n",
              "          const dataTable =\n",
              "            await google.colab.kernel.invokeFunction('convertToInteractive',\n",
              "                                                     [key], {});\n",
              "          if (!dataTable) return;\n",
              "\n",
              "          const docLinkHtml = 'Like what you see? Visit the ' +\n",
              "            '<a target=\"_blank\" href=https://colab.research.google.com/notebooks/data_table.ipynb>data table notebook</a>'\n",
              "            + ' to learn more about interactive tables.';\n",
              "          element.innerHTML = '';\n",
              "          dataTable['output_type'] = 'display_data';\n",
              "          await google.colab.output.renderOutput(dataTable, element);\n",
              "          const docLink = document.createElement('div');\n",
              "          docLink.innerHTML = docLinkHtml;\n",
              "          element.appendChild(docLink);\n",
              "        }\n",
              "      </script>\n",
              "    </div>\n",
              "  </div>\n",
              "  "
            ],
            "text/plain": [
              "                         id               filename                mdate  \\\n",
              "0  BOK_20181130_20181218_S1  BOK_20181130_20181218  2018-11-30 10:00:00   \n",
              "1  BOK_20181130_20181218_S2  BOK_20181130_20181218  2018-11-30 10:00:00   \n",
              "2  BOK_20181130_20181218_S3  BOK_20181130_20181218  2018-11-30 10:00:00   \n",
              "3  BOK_20181130_20181218_S4  BOK_20181130_20181218  2018-11-30 10:00:00   \n",
              "4  BOK_20181130_20181218_S5  BOK_20181130_20181218  2018-11-30 10:00:00   \n",
              "\n",
              "                 rdate              section  \\\n",
              "0  2018-12-18 16:00:00   Economic Situation   \n",
              "1  2018-12-18 16:00:00     Foreign Currency   \n",
              "2  2018-12-18 16:00:00    Financial Markets   \n",
              "3  2018-12-18 16:00:00      Monetary Policy   \n",
              "4  2018-12-18 16:00:00  Participants’ Views   \n",
              "\n",
              "                                                text  \n",
              "0  일부 위원은 관련부서에서 지난 3/4분기 중 유로지역 경제성장 부진을 자동차 관련 ...  \n",
              "1  일부 위원은 그동안 글로벌펀드와 패시브펀드의 규모가 크게 확대되어 우리나라 자본유출...  \n",
              "2  일부 위원은 현재 대기업들이 전반적으로는 문제가 없지만, 건설 조선업 등에 속하는 ...  \n",
              "3  일부 위원은 최근 경기상황과 금융불균형 등을 고려할 때 확장적 재정정책의 필요성에는...  \n",
              "4  일부 위원은 최근 실물경제 성장경로의 하방위험이 다소 커진 것으로 보이고 물가도 상...  "
            ]
          },
          "execution_count": 5,
          "metadata": {},
          "output_type": "execute_result"
        }
      ],
      "source": [
        "import pandas as pd\n",
        "df = pd.read_csv(data_file)\n",
        "df.head()"
      ]
    },
    {
      "cell_type": "code",
      "execution_count": 6,
      "metadata": {
        "colab": {
          "base_uri": "https://localhost:8080/"
        },
        "id": "E7VfqZ01PblN",
        "outputId": "a1ce9abc-1d99-4081-c91f-d60aeefe0a18"
      },
      "outputs": [
        {
          "name": "stdout",
          "output_type": "stream",
          "text": [
            "<class 'pandas.core.frame.DataFrame'>\n",
            "RangeIndex: 978 entries, 0 to 977\n",
            "Data columns (total 6 columns):\n",
            " #   Column    Non-Null Count  Dtype \n",
            "---  ------    --------------  ----- \n",
            " 0   id        978 non-null    object\n",
            " 1   filename  978 non-null    object\n",
            " 2   mdate     978 non-null    object\n",
            " 3   rdate     978 non-null    object\n",
            " 4   section   978 non-null    object\n",
            " 5   text      848 non-null    object\n",
            "dtypes: object(6)\n",
            "memory usage: 46.0+ KB\n"
          ]
        }
      ],
      "source": [
        "df.info() # check for missing values"
      ]
    },
    {
      "cell_type": "code",
      "execution_count": 7,
      "metadata": {
        "id": "Z8IsnMw8PblN"
      },
      "outputs": [],
      "source": [
        "# drop missing\n",
        "df = df.dropna()"
      ]
    },
    {
      "cell_type": "code",
      "execution_count": 8,
      "metadata": {
        "colab": {
          "base_uri": "https://localhost:8080/"
        },
        "id": "hSqYuudkPblO",
        "outputId": "a23c808a-aed7-4b3b-fec6-1d40676b05e2"
      },
      "outputs": [
        {
          "data": {
            "text/plain": [
              "count                  848\n",
              "unique                   6\n",
              "top       Foreign Currency\n",
              "freq                   163\n",
              "Name: section, dtype: object"
            ]
          },
          "execution_count": 8,
          "metadata": {},
          "output_type": "execute_result"
        }
      ],
      "source": [
        "# Number of label categories (e.g. section)\n",
        "df['section'].describe()"
      ]
    },
    {
      "cell_type": "code",
      "execution_count": 9,
      "metadata": {
        "id": "hdezjDKnPblO"
      },
      "outputs": [],
      "source": [
        "df['section'] = df['section'].str.upper()"
      ]
    },
    {
      "cell_type": "code",
      "execution_count": 10,
      "metadata": {
        "colab": {
          "base_uri": "https://localhost:8080/"
        },
        "id": "AgTEERnuPblO",
        "outputId": "9a1e7271-516b-4198-a993-315ff067bc5e"
      },
      "outputs": [
        {
          "data": {
            "text/plain": [
              "FOREIGN CURRENCY       163\n",
              "MONETARY POLICY        163\n",
              "PARTICIPANTS’ VIEWS    163\n",
              "ECONOMIC SITUATION     162\n",
              "FINANCIAL MARKETS      149\n",
              "GOVERNMENT’S VIEW       48\n",
              "Name: section, dtype: int64"
            ]
          },
          "execution_count": 10,
          "metadata": {},
          "output_type": "execute_result"
        }
      ],
      "source": [
        "df['section'].value_counts()"
      ]
    },
    {
      "cell_type": "code",
      "execution_count": 11,
      "metadata": {
        "colab": {
          "base_uri": "https://localhost:8080/"
        },
        "id": "GWzd-km7PblO",
        "outputId": "5ed2acc5-ca31-4833-ec07-e631c2717806"
      },
      "outputs": [
        {
          "name": "stdout",
          "output_type": "stream",
          "text": [
            "Index(['FOREIGN CURRENCY', 'MONETARY POLICY', 'PARTICIPANTS’ VIEWS',\n",
            "       'ECONOMIC SITUATION', 'FINANCIAL MARKETS'],\n",
            "      dtype='object')\n"
          ]
        }
      ],
      "source": [
        "# keep all sections through FINANCIAL MARKETS\n",
        "keep_sections = df['section'].value_counts().index[:5]\n",
        "print(keep_sections)"
      ]
    },
    {
      "cell_type": "code",
      "execution_count": 12,
      "metadata": {
        "colab": {
          "base_uri": "https://localhost:8080/"
        },
        "id": "UPUYv90rPblP",
        "outputId": "f988fee5-79da-4a24-a5d9-e4784b263561"
      },
      "outputs": [
        {
          "data": {
            "text/plain": [
              "FOREIGN CURRENCY       163\n",
              "MONETARY POLICY        163\n",
              "PARTICIPANTS’ VIEWS    163\n",
              "ECONOMIC SITUATION     162\n",
              "FINANCIAL MARKETS      149\n",
              "Name: section, dtype: int64"
            ]
          },
          "execution_count": 12,
          "metadata": {},
          "output_type": "execute_result"
        }
      ],
      "source": [
        "df = df[df['section'].isin(keep_sections)]\n",
        "df['section'].value_counts()"
      ]
    },
    {
      "cell_type": "code",
      "execution_count": 13,
      "metadata": {
        "colab": {
          "base_uri": "https://localhost:8080/"
        },
        "id": "f0qeiN4oPblP",
        "outputId": "abbcf30d-48ec-42e9-9d45-5ec864996cf6"
      },
      "outputs": [
        {
          "data": {
            "text/plain": [
              "0      2018-11-30 10:00:00\n",
              "1      2018-11-30 10:00:00\n",
              "2      2018-11-30 10:00:00\n",
              "3      2018-11-30 10:00:00\n",
              "4      2018-11-30 10:00:00\n",
              "              ...         \n",
              "972    2007-12-07 10:00:00\n",
              "973    2007-12-07 10:00:00\n",
              "974    2007-12-07 10:00:00\n",
              "975    2007-12-07 10:00:00\n",
              "976    2007-12-07 10:00:00\n",
              "Name: mdate, Length: 800, dtype: object"
            ]
          },
          "execution_count": 13,
          "metadata": {},
          "output_type": "execute_result"
        }
      ],
      "source": [
        "df.mdate"
      ]
    },
    {
      "cell_type": "code",
      "execution_count": 14,
      "metadata": {
        "colab": {
          "base_uri": "https://localhost:8080/"
        },
        "id": "X8FpuYzlPblP",
        "outputId": "14a40373-0fc2-458b-d83b-4dd530bee269"
      },
      "outputs": [
        {
          "data": {
            "text/plain": [
              "2010    60\n",
              "2014    58\n",
              "2015    55\n",
              "2011    55\n",
              "2008    55\n",
              "2005    50\n",
              "2006    50\n",
              "2016    50\n",
              "2012    50\n",
              "2013    46\n",
              "2007    45\n",
              "2009    45\n",
              "2020    38\n",
              "2019    38\n",
              "2018    36\n",
              "2017    35\n",
              "2021    34\n",
              "Name: year, dtype: int64"
            ]
          },
          "execution_count": 14,
          "metadata": {},
          "output_type": "execute_result"
        }
      ],
      "source": [
        "df['mdate'] = pd.to_datetime(df['mdate'], format='%Y-%m-%d')\n",
        "df['year'] = df['mdate'].dt.year\n",
        "df['year'].value_counts()"
      ]
    },
    {
      "cell_type": "code",
      "execution_count": 15,
      "metadata": {
        "colab": {
          "base_uri": "https://localhost:8080/",
          "height": 283
        },
        "id": "IoK-ESBUPblQ",
        "outputId": "fbeaee73-7e4e-48ce-9314-898fc4c9b9ba"
      },
      "outputs": [
        {
          "data": {
            "text/plain": [
              "<matplotlib.axes._subplots.AxesSubplot at 0x7fe1ff6da2d0>"
            ]
          },
          "execution_count": 15,
          "metadata": {},
          "output_type": "execute_result"
        },
        {
          "data": {
            "image/png": "[encoded data removed]",
            "text/plain": [
              "<Figure size 432x288 with 1 Axes>"
            ]
          },
          "metadata": {
            "needs_background": "light"
          },
          "output_type": "display_data"
        }
      ],
      "source": [
        "df['text_len'] = df['text'].str.len()\n",
        "df['text_len'].hist(bins=10)"
      ]
    },
    {
      "cell_type": "code",
      "execution_count": 16,
      "metadata": {
        "colab": {
          "base_uri": "https://localhost:8080/",
          "height": 283
        },
        "id": "JQblPp4gPblQ",
        "outputId": "818c270f-629a-4118-ee93-18d2a6b18a09"
      },
      "outputs": [
        {
          "data": {
            "text/plain": [
              "<matplotlib.axes._subplots.AxesSubplot at 0x7fe1fe75c990>"
            ]
          },
          "execution_count": 16,
          "metadata": {},
          "output_type": "execute_result"
        },
        {
          "data": {
            "image/png": "[encoded data removed]",
            "text/plain": [
              "<Figure size 432x288 with 1 Axes>"
            ]
          },
          "metadata": {
            "needs_background": "light"
          },
          "output_type": "display_data"
        }
      ],
      "source": [
        "df['text_len_ln'] = np.log(df['text_len'])\n",
        "df['text_len_ln'].hist(bins=10)"
      ]
    },
    {
      "cell_type": "markdown",
      "metadata": {
        "id": "r0Um2q_APblQ"
      },
      "source": [
        "## RegEx"
      ]
    },
    {
      "cell_type": "markdown",
      "metadata": {
        "id": "_hpqwd_pPblQ"
      },
      "source": [
        "Please refer to [RegExOne Regular Expressions Lessons](http://regexone.com) and [the python documentation](https://docs.python.org/3/howto/regex.html)."
      ]
    },
    {
      "cell_type": "markdown",
      "metadata": {},
      "source": [
        "| 번호 | 메타문자 | 메타문자 이름 | 의미 |\n",
        "| --- | --- | --- | --- |\n",
        "| 1 | ^ | Caret 캐릿 | 정규식의 시작을 의미 |\n",
        "| 2 | $ | Dollar 달러 사인 | 정규식의 끝을 의미 |\n",
        "| 3 | \\[ \\] | Bracket (Square brackets) 대괄호 | 문자셋 \\[ \\] 안에 있는 문자에 대해 확인 |\n",
        "| 4 | ( ) | Parenthesis 소괄호 | 문자열을 확인 |\n",
        "| 5 | ? | Question mark 물음표 | 물음표 다음에 0번 또는 1번 나오는 문자에 대해 확인 |\n",
        "| 6 | + | Plus 더하기 | 물음표 다음에 1번 이상 나오는 문자에 대해 확인 |\n",
        "| 7 | * | Multiply 곱하기(별) | 물음표 다음에 0번 이상 나오는 문자에 대해 확인 |\n",
        "| 8 | . | Dot 점 | 줄바꿈 문자 \\\\n 제외한 모든문자 |\n",
        "| 9 | \\| | Pipe 파이프(작대기) | OR 연산 |\n",
        "| 10 | \\ | Escaping 백슬래쉬 | 특수문자를 일반문자로 고려하려할 때 |\n",
        "| 11 | ! | Exclamation 느낌표 | NOT 연산 |\n",
        "| 12 | \\{ \\} | Brace (Curly brackets) 중괄호 | 중괄호 안에 있는 문자에 대해 반복 |\n"
      ]
    },
    {
      "cell_type": "markdown",
      "metadata": {},
      "source": [
        "| 번호 | 문자 | 의미 |\n",
        "| --- | --- | --- |\n",
        "| 1 | \\d | 숫자 [0-9]와 동일한 표현 |\n",
        "| 2 | \\D | 숫자가 아닌 것 [^0-9]와 동일한 표현 |\n",
        "| 3 | \\s | 공백문자 [\\t\\n\\r\\f\\v]와 동일한 표현 |\n",
        "| 4 | \\S | 공백문자가 아닌것 [^\\t\\n\\r\\f\\v]와 동일한 표현 |\n",
        "| 5 | \\w | 문자+숫자 (alphanumeric), 언더스코어(_) [a-zA-Z0-9_]와 동일한 표현 |\n",
        "| 6 | \\W | 문자+숫자 (alphanumeric), 언더스코어(_)가 아닌것 [^a-zA-Z0-9_]와 동일한 표현 |\n"
      ]
    },
    {
      "cell_type": "code",
      "execution_count": 17,
      "metadata": {
        "colab": {
          "base_uri": "https://localhost:8080/"
        },
        "id": "I29Jo1oBPblQ",
        "outputId": "6714c24c-e64e-47b8-99e7-3045ddb3cb01"
      },
      "outputs": [
        {
          "name": "stdout",
          "output_type": "stream",
          "text": [
            "['일부 위원은 관련부서에서 ', '일부 위원은 세계 ', '일부 위원은 최근의 ', '일부 위원은 금년 ', '일부 위원은 관련부서에서 ', '일부 위원은 세계경제가 ']\n",
            "['일부 위원은 그동안 ', '일부 위원은 그동안 ', '일부 위원은 중국의 ', '일부 위원은 금년 ', '일부 위원은 10월 ', '일부 위원은 금년 ']\n",
            "['일부 위원은 현재 ', '일부 위원은 금년 ', '일부 위원은 저금리 ', '일부 위원은 경기의 ', '일부 위원은 MMF를 ']\n",
            "['일부 위원은 최근 ', '일부 위원은 매크로 ', '일부 위원은 현재 ', '일부 위원은 가계부채 ', '일부 위원은 기존 ', '일부 위원은 기업부문 ']\n",
            "['일부 위원은 최근 ', '일부 위원은 경기와 ', '일부 위원은 금번 ', '일부 위원은 기준금리를 ', '일부 위원은 금번 ', '일부 위원은 금번 ']\n"
          ]
        }
      ],
      "source": [
        "import re\n",
        "\n",
        "docs = df[:5]['text']\n",
        "\n",
        "# Extract words after 일부 위원은.\n",
        "for doc in docs:    \n",
        "    print(re.findall(r'일부 위원은 \\w+ ', # pattern to match. always put 'r' in front of string so that backslashes are treated literally.\n",
        "                     doc,            # string\n",
        "                     re.IGNORECASE))  # ignore upper/lowercase (optional)"
      ]
    },
    {
      "cell_type": "code",
      "execution_count": 18,
      "metadata": {
        "colab": {
          "base_uri": "https://localhost:8080/"
        },
        "id": "8UAnSz_LPblQ",
        "outputId": "d8571106-ed37-4281-f370-28e84c88f9dd"
      },
      "outputs": [
        {
          "name": "stdout",
          "output_type": "stream",
          "text": [
            "[]\n",
            "['Libor-OIS']\n",
            "[]\n",
            "[]\n",
            "[]\n"
          ]
        }
      ],
      "source": [
        "# Extract hyphenated words\n",
        "for doc in docs:    \n",
        "    print(re.findall(r'[ㄱ-ㅎ|가-힣|a-z|A-Z|0-9|]+[-][ㄱ-ㅎ|가-힣|a-z|A-Z|0-9|]+', \n",
        "                     doc,            \n",
        "                     re.IGNORECASE))  "
      ]
    },
    {
      "cell_type": "code",
      "execution_count": 19,
      "metadata": {
        "colab": {
          "base_uri": "https://localhost:8080/"
        },
        "id": "iTsppkwwPblR",
        "outputId": "2f3c5a35-03a0-49b2-a59a-469bb31f6317"
      },
      "outputs": [
        {
          "name": "stdout",
          "output_type": "stream",
          "text": [
            "0 (127, 135) (Brexit)\n",
            "0 (384, 391) (ASEAN)\n",
            "0 (1160, 1163) (+)\n",
            "0 (1276, 1279) (-)\n",
            "0 (5801, 5809) (basket)\n",
            "0 (6138, 6147) (ceiling)\n",
            "1 (259, 291) (collateralized loan obligation)\n",
            "1 (472, 491) (mezzanine tranche)\n",
            "1 (2447, 2463) (data dependent)\n",
            "1 (3687, 3694) (Hibor)\n",
            "1 (3709, 3717) (Shibor)\n",
            "1 (3876, 3879) (-)\n",
            "1 (5779, 5784) (DXY)\n",
            "1 (6018, 6023) (VIX)\n",
            "1 (6894, 6899) (RTI)\n",
            "2 (1612, 1625) (risk weight)\n",
            "2 (1761, 1776) (downside risk)\n",
            "2 (2978, 2991) (procyclical)\n",
            "4 (6577, 6595) (search for yield)\n",
            "4 (6613, 6625) (mispricing)\n"
          ]
        }
      ],
      "source": [
        "# extract paranthized words\n",
        "for i, doc in enumerate(docs):\n",
        "    finder = re.finditer('\\([^\\)]+\\)', # pattern to match ([^\\s] means non-white-space)\n",
        "                     doc)            # string\n",
        "    for m in finder: \n",
        "        print(i, m.span(),m.group()) # location (start,end) and matching string\n"
      ]
    },
    {
      "cell_type": "code",
      "execution_count": 20,
      "metadata": {
        "id": "Tbo9fzSuPblR"
      },
      "outputs": [],
      "source": [
        "# economic uncertainty\n",
        "pattern1 = r'(\\b)불확실[ㄱ-ㅎ|가-힣]*'\n",
        "pattern2 = r'(\\b)경제[ㄱ-ㅎ|가-힣]*'\n",
        "pattern3 = r'(\\b)국회(\\b)|(\\b)적자(\\b)|(\\b)한국은행(\\b)|(\\b)입법(\\b)|(\\b)규제(\\b)|(\\b)청와대(\\b)'"
      ]
    },
    {
      "cell_type": "code",
      "execution_count": 22,
      "metadata": {
        "colab": {
          "base_uri": "https://localhost:8080/"
        },
        "id": "u4vBkZgmPblR",
        "outputId": "8d2e89c5-46d7-4296-d365-3ed5021f231c"
      },
      "outputs": [
        {
          "name": "stdout",
          "output_type": "stream",
          "text": [
            "pattern = (\\b)불확실[ㄱ-ㅎ|가-힣]*\n",
            "0 (424, 429) 불확실성이\n",
            "0 (1301, 1306) 불확실성을\n",
            "0 (1462, 1467) 불확실성이\n",
            "0 (1575, 1580) 불확실성을\n",
            "0 (4012, 4017) 불확실성이\n",
            "0 (4883, 4888) 불확실성이\n",
            "0 (4912, 4916) 불확실성\n",
            "0 (6254, 6259) 불확실성이\n",
            "0 (6409, 6414) 불확실성은\n",
            "0 (6923, 6928) 불확실성에\n",
            "0 (8384, 8388) 불확실성\n",
            "0 (8617, 8622) 불확실성이\n",
            "1 (2614, 2619) 불확실성은\n",
            "2 (221, 226) 불확실성을\n",
            "4 (169, 174) 불확실성이\n",
            "4 (614, 619) 불확실성이\n",
            "4 (733, 737) 불확실성\n",
            "4 (780, 785) 불확실성이\n",
            "4 (1474, 1479) 불확실성이\n",
            "4 (3465, 3470) 불확실성이\n",
            "4 (11115, 11120) 불확실성은\n",
            "4 (13353, 13358) 불확실성이\n",
            "pattern = (\\b)경제[ㄱ-ㅎ|가-힣]*\n",
            "0 (30, 34) 경제성장\n",
            "0 (2262, 2264) 경제\n",
            "0 (3209, 3212) 경제가\n",
            "0 (3220, 3225) 경제전망의\n",
            "0 (5009, 5013) 경제지표\n",
            "0 (6244, 6247) 경제의\n",
            "0 (6354, 6356) 경제\n",
            "0 (6405, 6408) 경제의\n",
            "0 (8136, 8139) 경제가\n",
            "0 (8399, 8402) 경제적\n",
            "0 (8602, 8604) 경제\n",
            "1 (2023, 2026) 경제가\n",
            "1 (2682, 2686) 경제에서\n",
            "1 (3153, 3155) 경제\n",
            "2 (170, 173) 경제의\n",
            "2 (217, 220) 경제의\n",
            "2 (243, 246) 경제에\n",
            "2 (2397, 2401) 경제에의\n",
            "3 (1180, 1185) 경제성장을\n",
            "4 (147, 150) 경제의\n",
            "4 (283, 286) 경제는\n",
            "4 (3756, 3761) 경제동향을\n",
            "4 (5451, 5456) 경제여건이\n",
            "4 (5824, 5827) 경제에\n",
            "4 (5871, 5874) 경제는\n",
            "4 (6864, 6867) 경제의\n",
            "4 (7645, 7648) 경제의\n",
            "4 (7911, 7916) 경제손실을\n",
            "4 (8039, 8042) 경제의\n",
            "4 (8330, 8333) 경제에\n",
            "4 (9218, 9221) 경제의\n",
            "4 (9753, 9755) 경제\n",
            "4 (10201, 10205) 경제여건\n",
            "4 (10503, 10508) 경제지표를\n",
            "4 (11100, 11103) 경제의\n",
            "4 (12130, 12136) 경제주체들의\n",
            "4 (12724, 12729) 경제환경이\n",
            "4 (13148, 13153) 경제상황을\n",
            "4 (13347, 13352) 경제여건의\n",
            "4 (14014, 14016) 경제\n",
            "pattern = (\\b)국회(\\b)|(\\b)적자(\\b)|(\\b)한국은행(\\b)|(\\b)입법(\\b)|(\\b)규제(\\b)|(\\b)청와대(\\b)\n",
            "0 (46, 48) 규제\n",
            "1 (4305, 4307) 규제\n",
            "1 (6777, 6779) 규제\n",
            "4 (10681, 10683) 규제\n"
          ]
        }
      ],
      "source": [
        "# extract uncertainty words\n",
        "for pattern in [pattern1, pattern2, pattern3]:\n",
        "    print(f'pattern = {pattern}')\n",
        "    for i, doc in enumerate(docs):\n",
        "        finder = re.finditer(pattern, doc)\n",
        "        for m in finder: \n",
        "            print(i, m.span(),m.group()) # location (start,end) and matching string\n"
      ]
    },
    {
      "cell_type": "code",
      "execution_count": 23,
      "metadata": {
        "id": "GOTtHfbvPblR"
      },
      "outputs": [],
      "source": [
        "def indicates_uncertainty(doc):\n",
        "    m1 = re.search(pattern1, doc, re.IGNORECASE)\n",
        "    m2 = re.search(pattern2, doc, re.IGNORECASE)\n",
        "    m3 = re.search(pattern3, doc, re.IGNORECASE)\n",
        "    if m1 and m2 and m3:\n",
        "        return True\n",
        "    else:\n",
        "        return False"
      ]
    },
    {
      "cell_type": "code",
      "execution_count": 24,
      "metadata": {
        "id": "ViBg2xTpPblR"
      },
      "outputs": [],
      "source": [
        "df['uncertainty'] = df['text'].apply(indicates_uncertainty)"
      ]
    },
    {
      "cell_type": "code",
      "execution_count": 25,
      "metadata": {
        "colab": {
          "base_uri": "https://localhost:8080/",
          "height": 301
        },
        "id": "NJmUH80dPblR",
        "outputId": "933a279f-ebe9-4e64-ed2e-fc4e81a87ffc"
      },
      "outputs": [
        {
          "data": {
            "text/plain": [
              "<matplotlib.axes._subplots.AxesSubplot at 0x7fe1fe244950>"
            ]
          },
          "execution_count": 25,
          "metadata": {},
          "output_type": "execute_result"
        },
        {
          "data": {
            "image/png": "[encoded data removed]",
            "text/plain": [
              "<Figure size 432x288 with 1 Axes>"
            ]
          },
          "metadata": {
            "needs_background": "light"
          },
          "output_type": "display_data"
        }
      ],
      "source": [
        "df.groupby('year')['uncertainty'].mean().plot()"
      ]
    },
    {
      "cell_type": "code",
      "execution_count": null,
      "metadata": {
        "id": "aGiL1zcnPblR"
      },
      "outputs": [],
      "source": []
    }
  ],
  "metadata": {
    "colab": {
      "collapsed_sections": [],
      "include_colab_link": true,
      "name": "01-basic.ipynb",
      "provenance": []
    },
    "kernelspec": {
      "display_name": "Python 3",
      "name": "python3"
    },
    "language_info": {
      "codemirror_mode": {
        "name": "ipython",
        "version": 3
      },
      "file_extension": ".py",
      "mimetype": "text/x-python",
      "name": "python",
      "nbconvert_exporter": "python",
      "pygments_lexer": "ipython3",
      "version": "3.9.2"
    }
  },
  "nbformat": 4,
  "nbformat_minor": 0
}
