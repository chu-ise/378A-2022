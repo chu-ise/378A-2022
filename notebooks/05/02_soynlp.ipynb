{
  "cells": [
    {
      "cell_type": "markdown",
      "metadata": {
        "colab_type": "text",
        "id": "view-in-github"
      },
      "source": [
        "<a href=\"https://colab.research.google.com/github/chu-ise/378A-2022/blob/main/notebooks/05/02_soynlp.ipynb\" target=\"_parent\"><img src=\"https://colab.research.google.com/assets/colab-badge.svg\" alt=\"Open In Colab\"/></a>"
      ]
    },
    {
      "cell_type": "markdown",
      "metadata": {
        "id": "vUadJfgPV99g"
      },
      "source": [
        "# [Soynlp](https://github.com/lovit/soynlp)"
      ]
    },
    {
      "cell_type": "markdown",
      "metadata": {
        "id": "STWmWECRXplc"
      },
      "source": [
        "## Preparing the environment"
      ]
    },
    {
      "cell_type": "code",
      "execution_count": 1,
      "metadata": {
        "colab": {
          "base_uri": "https://localhost:8080/"
        },
        "id": "x7huzKhbXq38",
        "outputId": "1f216938-b7f0-401a-d0be-fc6833047c46"
      },
      "outputs": [],
      "source": [
        "%%capture\n",
        "%pip install soynlp"
      ]
    },
    {
      "cell_type": "code",
      "execution_count": 2,
      "metadata": {
        "colab": {
          "base_uri": "https://localhost:8080/"
        },
        "id": "t6bw6pZrV99j",
        "outputId": "4b6fd4b3-52d8-4e7c-b080-76b6a765c4ac"
      },
      "outputs": [
        {
          "name": "stdout",
          "output_type": "stream",
          "text": [
            "WORKSPACE_DIR = ../../workspace\n"
          ]
        }
      ],
      "source": [
        "import os\n",
        "\n",
        "WORKSPACE_DIR = \"../../workspace\" \n",
        "print(f'WORKSPACE_DIR = {WORKSPACE_DIR}')\n",
        "data_dir = os.path.join(WORKSPACE_DIR, \"data\")\n",
        "os.makedirs(data_dir, exist_ok=True)"
      ]
    },
    {
      "cell_type": "code",
      "execution_count": 6,
      "metadata": {
        "colab": {
          "base_uri": "https://localhost:8080/",
          "height": 105
        },
        "id": "SlF5Ki1RX7is",
        "outputId": "f49839ba-11d4-464e-ca42-bdf42c0e68d5"
      },
      "outputs": [
        {
          "name": "stderr",
          "output_type": "stream",
          "text": [
            "Downloading...\n",
            "From: https://drive.google.com/uc?id=1uDxxBNZ-qZscPjdEam0QEjTdKcFUBMuy\n",
            "To: /content/bok_minutes.csv\n",
            "100%|██████████| 10.1M/10.1M [00:00<00:00, 103MB/s]\n"
          ]
        },
        {
          "data": {
            "application/vnd.google.colaboratory.intrinsic+json": {
              "type": "string"
            },
            "text/plain": [
              "'bok_minutes.csv'"
            ]
          },
          "execution_count": 6,
          "metadata": {},
          "output_type": "execute_result"
        }
      ],
      "source": [
        "import gdown\n",
        "import os\n",
        "id = \"1uDxxBNZ-qZscPjdEam0QEjTdKcFUBMuy\"\n",
        "\n",
        "data_file = \"bok_minutes.csv\"\n",
        "gdown.download(id=id, output=data_file, quiet=False, fuzzy=True)"
      ]
    },
    {
      "cell_type": "code",
      "execution_count": 7,
      "metadata": {
        "colab": {
          "base_uri": "https://localhost:8080/",
          "height": 204
        },
        "id": "0Ov-LZH9X-ER",
        "outputId": "a31b6c83-4a1a-40e7-f441-031d2b790dbf"
      },
      "outputs": [
        {
          "data": {
            "text/html": [
              "\n",
              "  <div id=\"df-5ad05a57-9b9d-4c27-810b-07e2e597d85a\">\n",
              "    <div class=\"colab-df-container\">\n",
              "      <div>\n",
              "<style scoped>\n",
              "    .dataframe tbody tr th:only-of-type {\n",
              "        vertical-align: middle;\n",
              "    }\n",
              "\n",
              "    .dataframe tbody tr th {\n",
              "        vertical-align: top;\n",
              "    }\n",
              "\n",
              "    .dataframe thead th {\n",
              "        text-align: right;\n",
              "    }\n",
              "</style>\n",
              "<table border=\"1\" class=\"dataframe\">\n",
              "  <thead>\n",
              "    <tr style=\"text-align: right;\">\n",
              "      <th></th>\n",
              "      <th>id</th>\n",
              "      <th>filename</th>\n",
              "      <th>mdate</th>\n",
              "      <th>rdate</th>\n",
              "      <th>section</th>\n",
              "      <th>text</th>\n",
              "    </tr>\n",
              "  </thead>\n",
              "  <tbody>\n",
              "    <tr>\n",
              "      <th>0</th>\n",
              "      <td>BOK_20181130_20181218_S1</td>\n",
              "      <td>BOK_20181130_20181218</td>\n",
              "      <td>2018-11-30 10:00:00</td>\n",
              "      <td>2018-12-18 16:00:00</td>\n",
              "      <td>Economic Situation</td>\n",
              "      <td>일부 위원은 관련부서에서 지난 3/4분기 중 유로지역 경제성장 부진을 자동차 관련 ...</td>\n",
              "    </tr>\n",
              "    <tr>\n",
              "      <th>1</th>\n",
              "      <td>BOK_20181130_20181218_S2</td>\n",
              "      <td>BOK_20181130_20181218</td>\n",
              "      <td>2018-11-30 10:00:00</td>\n",
              "      <td>2018-12-18 16:00:00</td>\n",
              "      <td>Foreign Currency</td>\n",
              "      <td>일부 위원은 그동안 글로벌펀드와 패시브펀드의 규모가 크게 확대되어 우리나라 자본유출...</td>\n",
              "    </tr>\n",
              "    <tr>\n",
              "      <th>2</th>\n",
              "      <td>BOK_20181130_20181218_S3</td>\n",
              "      <td>BOK_20181130_20181218</td>\n",
              "      <td>2018-11-30 10:00:00</td>\n",
              "      <td>2018-12-18 16:00:00</td>\n",
              "      <td>Financial Markets</td>\n",
              "      <td>일부 위원은 현재 대기업들이 전반적으로는 문제가 없지만, 건설 조선업 등에 속하는 ...</td>\n",
              "    </tr>\n",
              "    <tr>\n",
              "      <th>3</th>\n",
              "      <td>BOK_20181130_20181218_S4</td>\n",
              "      <td>BOK_20181130_20181218</td>\n",
              "      <td>2018-11-30 10:00:00</td>\n",
              "      <td>2018-12-18 16:00:00</td>\n",
              "      <td>Monetary Policy</td>\n",
              "      <td>일부 위원은 최근 경기상황과 금융불균형 등을 고려할 때 확장적 재정정책의 필요성에는...</td>\n",
              "    </tr>\n",
              "    <tr>\n",
              "      <th>4</th>\n",
              "      <td>BOK_20181130_20181218_S5</td>\n",
              "      <td>BOK_20181130_20181218</td>\n",
              "      <td>2018-11-30 10:00:00</td>\n",
              "      <td>2018-12-18 16:00:00</td>\n",
              "      <td>Participants’ Views</td>\n",
              "      <td>일부 위원은 최근 실물경제 성장경로의 하방위험이 다소 커진 것으로 보이고 물가도 상...</td>\n",
              "    </tr>\n",
              "  </tbody>\n",
              "</table>\n",
              "</div>\n",
              "      <button class=\"colab-df-convert\" onclick=\"convertToInteractive('df-5ad05a57-9b9d-4c27-810b-07e2e597d85a')\"\n",
              "              title=\"Convert this dataframe to an interactive table.\"\n",
              "              style=\"display:none;\">\n",
              "        \n",
              "  <svg xmlns=\"http://www.w3.org/2000/svg\" height=\"24px\"viewBox=\"0 0 24 24\"\n",
              "       width=\"24px\">\n",
              "    <path d=\"M0 0h24v24H0V0z\" fill=\"none\"/>\n",
              "    <path d=\"M18.56 5.44l.94 2.06.94-2.06 2.06-.94-2.06-.94-.94-2.06-.94 2.06-2.06.94zm-11 1L8.5 8.5l.94-2.06 2.06-.94-2.06-.94L8.5 2.5l-.94 2.06-2.06.94zm10 10l.94 2.06.94-2.06 2.06-.94-2.06-.94-.94-2.06-.94 2.06-2.06.94z\"/><path d=\"M17.41 7.96l-1.37-1.37c-.4-.4-.92-.59-1.43-.59-.52 0-1.04.2-1.43.59L10.3 9.45l-7.72 7.72c-.78.78-.78 2.05 0 2.83L4 21.41c.39.39.9.59 1.41.59.51 0 1.02-.2 1.41-.59l7.78-7.78 2.81-2.81c.8-.78.8-2.07 0-2.86zM5.41 20L4 18.59l7.72-7.72 1.47 1.35L5.41 20z\"/>\n",
              "  </svg>\n",
              "      </button>\n",
              "      \n",
              "  <style>\n",
              "    .colab-df-container {\n",
              "      display:flex;\n",
              "      flex-wrap:wrap;\n",
              "      gap: 12px;\n",
              "    }\n",
              "\n",
              "    .colab-df-convert {\n",
              "      background-color: #E8F0FE;\n",
              "      border: none;\n",
              "      border-radius: 50%;\n",
              "      cursor: pointer;\n",
              "      display: none;\n",
              "      fill: #1967D2;\n",
              "      height: 32px;\n",
              "      padding: 0 0 0 0;\n",
              "      width: 32px;\n",
              "    }\n",
              "\n",
              "    .colab-df-convert:hover {\n",
              "      background-color: #E2EBFA;\n",
              "      box-shadow: 0px 1px 2px rgba(60, 64, 67, 0.3), 0px 1px 3px 1px rgba(60, 64, 67, 0.15);\n",
              "      fill: #174EA6;\n",
              "    }\n",
              "\n",
              "    [theme=dark] .colab-df-convert {\n",
              "      background-color: #3B4455;\n",
              "      fill: #D2E3FC;\n",
              "    }\n",
              "\n",
              "    [theme=dark] .colab-df-convert:hover {\n",
              "      background-color: #434B5C;\n",
              "      box-shadow: 0px 1px 3px 1px rgba(0, 0, 0, 0.15);\n",
              "      filter: drop-shadow(0px 1px 2px rgba(0, 0, 0, 0.3));\n",
              "      fill: #FFFFFF;\n",
              "    }\n",
              "  </style>\n",
              "\n",
              "      <script>\n",
              "        const buttonEl =\n",
              "          document.querySelector('#df-5ad05a57-9b9d-4c27-810b-07e2e597d85a button.colab-df-convert');\n",
              "        buttonEl.style.display =\n",
              "          google.colab.kernel.accessAllowed ? 'block' : 'none';\n",
              "\n",
              "        async function convertToInteractive(key) {\n",
              "          const element = document.querySelector('#df-5ad05a57-9b9d-4c27-810b-07e2e597d85a');\n",
              "          const dataTable =\n",
              "            await google.colab.kernel.invokeFunction('convertToInteractive',\n",
              "                                                     [key], {});\n",
              "          if (!dataTable) return;\n",
              "\n",
              "          const docLinkHtml = 'Like what you see? Visit the ' +\n",
              "            '<a target=\"_blank\" href=https://colab.research.google.com/notebooks/data_table.ipynb>data table notebook</a>'\n",
              "            + ' to learn more about interactive tables.';\n",
              "          element.innerHTML = '';\n",
              "          dataTable['output_type'] = 'display_data';\n",
              "          await google.colab.output.renderOutput(dataTable, element);\n",
              "          const docLink = document.createElement('div');\n",
              "          docLink.innerHTML = docLinkHtml;\n",
              "          element.appendChild(docLink);\n",
              "        }\n",
              "      </script>\n",
              "    </div>\n",
              "  </div>\n",
              "  "
            ],
            "text/plain": [
              "                         id               filename                mdate  \\\n",
              "0  BOK_20181130_20181218_S1  BOK_20181130_20181218  2018-11-30 10:00:00   \n",
              "1  BOK_20181130_20181218_S2  BOK_20181130_20181218  2018-11-30 10:00:00   \n",
              "2  BOK_20181130_20181218_S3  BOK_20181130_20181218  2018-11-30 10:00:00   \n",
              "3  BOK_20181130_20181218_S4  BOK_20181130_20181218  2018-11-30 10:00:00   \n",
              "4  BOK_20181130_20181218_S5  BOK_20181130_20181218  2018-11-30 10:00:00   \n",
              "\n",
              "                 rdate              section  \\\n",
              "0  2018-12-18 16:00:00   Economic Situation   \n",
              "1  2018-12-18 16:00:00     Foreign Currency   \n",
              "2  2018-12-18 16:00:00    Financial Markets   \n",
              "3  2018-12-18 16:00:00      Monetary Policy   \n",
              "4  2018-12-18 16:00:00  Participants’ Views   \n",
              "\n",
              "                                                text  \n",
              "0  일부 위원은 관련부서에서 지난 3/4분기 중 유로지역 경제성장 부진을 자동차 관련 ...  \n",
              "1  일부 위원은 그동안 글로벌펀드와 패시브펀드의 규모가 크게 확대되어 우리나라 자본유출...  \n",
              "2  일부 위원은 현재 대기업들이 전반적으로는 문제가 없지만, 건설 조선업 등에 속하는 ...  \n",
              "3  일부 위원은 최근 경기상황과 금융불균형 등을 고려할 때 확장적 재정정책의 필요성에는...  \n",
              "4  일부 위원은 최근 실물경제 성장경로의 하방위험이 다소 커진 것으로 보이고 물가도 상...  "
            ]
          },
          "execution_count": 7,
          "metadata": {},
          "output_type": "execute_result"
        }
      ],
      "source": [
        "import pandas as pd\n",
        "df = pd.read_csv(data_file)\n",
        "df.head()"
      ]
    },
    {
      "cell_type": "code",
      "execution_count": 9,
      "metadata": {
        "colab": {
          "base_uri": "https://localhost:8080/"
        },
        "id": "Ru0QFgCkY-4r",
        "outputId": "cda506c8-a926-4f83-cda8-ec68012de9b5"
      },
      "outputs": [
        {
          "name": "stdout",
          "output_type": "stream",
          "text": [
            "32179\n"
          ]
        }
      ],
      "source": [
        "docs = df['text']\n",
        "\n",
        "sentences = []\n",
        "for doc in docs:\n",
        "  sentences += str(doc).split('\\n')\n",
        "print(len(sentences))"
      ]
    },
    {
      "cell_type": "markdown",
      "metadata": {
        "id": "sVcIkz3NV99m"
      },
      "source": [
        "## 단어 추출"
      ]
    },
    {
      "cell_type": "code",
      "execution_count": 10,
      "metadata": {
        "colab": {
          "base_uri": "https://localhost:8080/"
        },
        "id": "RxWPxQwaV99m",
        "outputId": "9a428777-7e5f-4445-c110-cb0ef0533711"
      },
      "outputs": [
        {
          "name": "stdout",
          "output_type": "stream",
          "text": [
            "training was done. used memory 0.420 Gb\n",
            "CPU times: user 11.7 s, sys: 352 ms, total: 12.1 s\n",
            "Wall time: 12.2 s\n"
          ]
        }
      ],
      "source": [
        "%%time\n",
        "from soynlp.word import WordExtractor\n",
        "\n",
        "word_extractor = WordExtractor()\n",
        "word_extractor.train(sentences)"
      ]
    },
    {
      "cell_type": "markdown",
      "metadata": {
        "id": "6m6HfadkV99m"
      },
      "source": [
        "`extract()` 메서드로 각 cohesion, branching entropy, accessor variety 등의 통계 수치를 계산할 수 있다."
      ]
    },
    {
      "cell_type": "code",
      "execution_count": 11,
      "metadata": {
        "colab": {
          "base_uri": "https://localhost:8080/"
        },
        "id": "utlledmzV99n",
        "outputId": "1cfc4b2d-9930-4be4-857c-1552825ee3d2"
      },
      "outputs": [
        {
          "name": "stdout",
          "output_type": "stream",
          "text": [
            "all cohesion probabilities was computed. # words = 46651\n",
            "all branching entropies was computed # words = 72584\n",
            "all accessor variety was computed # words = 72584\n"
          ]
        }
      ],
      "source": [
        "word_score = word_extractor.extract()"
      ]
    },
    {
      "cell_type": "markdown",
      "metadata": {
        "id": "MS3o1nOnV99n"
      },
      "source": [
        "## Cohesion"
      ]
    },
    {
      "cell_type": "code",
      "execution_count": 14,
      "metadata": {
        "colab": {
          "base_uri": "https://localhost:8080/"
        },
        "id": "rHwmU7i7V99p",
        "outputId": "0e4179a2-d79e-4148-d864-a4d275201e33"
      },
      "outputs": [
        {
          "data": {
            "text/plain": [
              "0.5499382581535556"
            ]
          },
          "execution_count": 14,
          "metadata": {},
          "output_type": "execute_result"
        }
      ],
      "source": [
        "word_score[\"금융\"].cohesion_forward"
      ]
    },
    {
      "cell_type": "code",
      "execution_count": 16,
      "metadata": {
        "colab": {
          "base_uri": "https://localhost:8080/"
        },
        "id": "CmoYGqnlV99p",
        "outputId": "13d8761a-8a04-4171-84a7-a6d1f8d4f089"
      },
      "outputs": [
        {
          "data": {
            "text/plain": [
              "0.12035310794024298"
            ]
          },
          "execution_count": 16,
          "metadata": {},
          "output_type": "execute_result"
        }
      ],
      "source": [
        "word_score[\"금융통화\"].cohesion_forward"
      ]
    },
    {
      "cell_type": "code",
      "execution_count": 17,
      "metadata": {
        "colab": {
          "base_uri": "https://localhost:8080/"
        },
        "id": "urY73FxSV99p",
        "outputId": "1aefdef9-6440-4e66-9213-9a1335912c27"
      },
      "outputs": [
        {
          "data": {
            "text/plain": [
              "0.2021725230109059"
            ]
          },
          "execution_count": 17,
          "metadata": {},
          "output_type": "execute_result"
        }
      ],
      "source": [
        "word_score[\"금융통화위\"].cohesion_forward"
      ]
    },
    {
      "cell_type": "code",
      "execution_count": 18,
      "metadata": {
        "colab": {
          "base_uri": "https://localhost:8080/"
        },
        "id": "dCNCidplV99q",
        "outputId": "9bcaf67c-9bfc-44d7-8b88-3c391709b5c0"
      },
      "outputs": [
        {
          "data": {
            "text/plain": [
              "0.27834133424371005"
            ]
          },
          "execution_count": 18,
          "metadata": {},
          "output_type": "execute_result"
        }
      ],
      "source": [
        "word_score[\"금융통화위원\"].cohesion_forward"
      ]
    },
    {
      "cell_type": "code",
      "execution_count": 19,
      "metadata": {
        "colab": {
          "base_uri": "https://localhost:8080/"
        },
        "id": "duMhNPNIaJKQ",
        "outputId": "5f61566f-5036-4327-c436-d3e75145062b"
      },
      "outputs": [
        {
          "data": {
            "text/plain": [
              "0.3444673684406629"
            ]
          },
          "execution_count": 19,
          "metadata": {},
          "output_type": "execute_result"
        }
      ],
      "source": [
        "word_score[\"금융통화위원회\"].cohesion_forward"
      ]
    },
    {
      "cell_type": "code",
      "execution_count": 24,
      "metadata": {
        "colab": {
          "base_uri": "https://localhost:8080/"
        },
        "id": "hptoeixYaLOd",
        "outputId": "54dc30a2-dec6-4bbf-82f2-a312e83c1773"
      },
      "outputs": [
        {
          "data": {
            "text/plain": [
              "0.21523503077783995"
            ]
          },
          "execution_count": 24,
          "metadata": {},
          "output_type": "execute_result"
        }
      ],
      "source": [
        "word_score[\"기준\"].cohesion_forward"
      ]
    },
    {
      "cell_type": "code",
      "execution_count": 25,
      "metadata": {
        "colab": {
          "base_uri": "https://localhost:8080/"
        },
        "id": "Gx76MnX_acTb",
        "outputId": "b05275ff-7abe-46e7-8522-cc34529d610b"
      },
      "outputs": [
        {
          "data": {
            "text/plain": [
              "0.4311915272638221"
            ]
          },
          "execution_count": 25,
          "metadata": {},
          "output_type": "execute_result"
        }
      ],
      "source": [
        "word_score[\"기준금\"].cohesion_forward"
      ]
    },
    {
      "cell_type": "code",
      "execution_count": 26,
      "metadata": {
        "colab": {
          "base_uri": "https://localhost:8080/"
        },
        "id": "6ULjtATSaewp",
        "outputId": "d045c0fc-2305-4c8a-b041-2647ed30fc51"
      },
      "outputs": [
        {
          "data": {
            "text/plain": [
              "0.5706795870422376"
            ]
          },
          "execution_count": 26,
          "metadata": {},
          "output_type": "execute_result"
        }
      ],
      "source": [
        "word_score[\"기준금리\"].cohesion_forward"
      ]
    },
    {
      "cell_type": "code",
      "execution_count": 28,
      "metadata": {
        "colab": {
          "base_uri": "https://localhost:8080/"
        },
        "id": "VilIXeYBahB8",
        "outputId": "9f51cb31-092c-478a-de49-ab0ba0c89c46"
      },
      "outputs": [
        {
          "data": {
            "text/plain": [
              "0.37575743286182"
            ]
          },
          "execution_count": 28,
          "metadata": {},
          "output_type": "execute_result"
        }
      ],
      "source": [
        "word_score[\"기준금리는\"].cohesion_forward"
      ]
    },
    {
      "cell_type": "markdown",
      "metadata": {
        "id": "m5XEyhLrV99q"
      },
      "source": [
        "## Branching Entropy"
      ]
    },
    {
      "cell_type": "code",
      "execution_count": 29,
      "metadata": {
        "colab": {
          "base_uri": "https://localhost:8080/"
        },
        "id": "7WhAsl9DV99r",
        "outputId": "ab3239a8-7dc1-4f06-8fb6-e7a307803b9f"
      },
      "outputs": [
        {
          "data": {
            "text/plain": [
              "0.7689286841948785"
            ]
          },
          "execution_count": 29,
          "metadata": {},
          "output_type": "execute_result"
        }
      ],
      "source": [
        "word_score[\"기준\"].right_branching_entropy"
      ]
    },
    {
      "cell_type": "code",
      "execution_count": 31,
      "metadata": {
        "colab": {
          "base_uri": "https://localhost:8080/"
        },
        "id": "CjY1YJMmV99r",
        "outputId": "9dbeb28d-29d1-4837-ef2f-d529cfdd9093"
      },
      "outputs": [
        {
          "data": {
            "text/plain": [
              "-0.0"
            ]
          },
          "execution_count": 31,
          "metadata": {},
          "output_type": "execute_result"
        }
      ],
      "source": [
        "# '기준금' 다음에는 항상 '리'만 나온다.\n",
        "word_score[\"기준금\"].right_branching_entropy"
      ]
    },
    {
      "cell_type": "code",
      "execution_count": 32,
      "metadata": {
        "colab": {
          "base_uri": "https://localhost:8080/"
        },
        "id": "0dWBIB-GV99s",
        "outputId": "e6409122-730e-4f87-b99d-fd3b7467fed8"
      },
      "outputs": [
        {
          "data": {
            "text/plain": [
              "1.8391611000017114"
            ]
          },
          "execution_count": 32,
          "metadata": {},
          "output_type": "execute_result"
        }
      ],
      "source": [
        "word_score[\"기준금리\"].right_branching_entropy"
      ]
    },
    {
      "cell_type": "code",
      "execution_count": 33,
      "metadata": {
        "colab": {
          "base_uri": "https://localhost:8080/"
        },
        "id": "kQHf27aOV99s",
        "outputId": "fa5c35a2-ffbc-4677-ae07-a81b42f9226c"
      },
      "outputs": [
        {
          "data": {
            "text/plain": [
              "1.1524847314161935"
            ]
          },
          "execution_count": 33,
          "metadata": {},
          "output_type": "execute_result"
        }
      ],
      "source": [
        "word_score[\"기준금리는\"].right_branching_entropy"
      ]
    },
    {
      "cell_type": "markdown",
      "metadata": {
        "id": "TYbL09NGV99t"
      },
      "source": [
        "## Accessor Variety"
      ]
    },
    {
      "cell_type": "code",
      "execution_count": 34,
      "metadata": {
        "colab": {
          "base_uri": "https://localhost:8080/"
        },
        "id": "J1HCpAwdV99t",
        "outputId": "3eae3f1e-18c9-4506-baef-7965358ff425"
      },
      "outputs": [
        {
          "data": {
            "text/plain": [
              "39"
            ]
          },
          "execution_count": 34,
          "metadata": {},
          "output_type": "execute_result"
        }
      ],
      "source": [
        "word_score[\"기준\"].right_accessor_variety"
      ]
    },
    {
      "cell_type": "code",
      "execution_count": 35,
      "metadata": {
        "colab": {
          "base_uri": "https://localhost:8080/"
        },
        "id": "sOumiEh9V99t",
        "outputId": "4a3312f6-92f7-4ae4-8a64-5af3c1648009"
      },
      "outputs": [
        {
          "data": {
            "text/plain": [
              "1"
            ]
          },
          "execution_count": 35,
          "metadata": {},
          "output_type": "execute_result"
        }
      ],
      "source": [
        "# '기준금' 다음에는 항상 '리'만 나온다.\n",
        "word_score[\"기준금\"].right_accessor_variety"
      ]
    },
    {
      "cell_type": "code",
      "execution_count": 36,
      "metadata": {
        "colab": {
          "base_uri": "https://localhost:8080/"
        },
        "id": "l9LJRjzCV99u",
        "outputId": "caf3dd33-9377-40d6-dde2-21f0d6084b08"
      },
      "outputs": [
        {
          "data": {
            "text/plain": [
              "30"
            ]
          },
          "execution_count": 36,
          "metadata": {},
          "output_type": "execute_result"
        }
      ],
      "source": [
        "word_score[\"기준금리\"].right_accessor_variety"
      ]
    },
    {
      "cell_type": "code",
      "execution_count": 37,
      "metadata": {
        "colab": {
          "base_uri": "https://localhost:8080/"
        },
        "id": "PqjgucwOV99u",
        "outputId": "f4ad07ba-65cb-4434-b1e4-45d108a5f371"
      },
      "outputs": [
        {
          "data": {
            "text/plain": [
              "12"
            ]
          },
          "execution_count": 37,
          "metadata": {},
          "output_type": "execute_result"
        }
      ],
      "source": [
        "word_score[\"기준금리는\"].right_accessor_variety"
      ]
    },
    {
      "cell_type": "markdown",
      "metadata": {
        "id": "uNOGYaIjV99u"
      },
      "source": [
        "## L-토큰화"
      ]
    },
    {
      "cell_type": "code",
      "execution_count": 39,
      "metadata": {
        "id": "Z6oXW7iHbSY0"
      },
      "outputs": [],
      "source": [
        "text = '한편 IMF가 추정한 우리나라의 GDP갭률은 금년에도 소폭의 마이너스(-)를 지속하고 있는데, 잠재성장률 추정의 불확실성을 감안하더라도 최근의 고용상황, 제조업가동률, 물가상승률 등에 비추어 볼 때 동 추정치가 어느 정도 타당성이 있어 보인다고 언급하면서 관련부서의 견해를 물었음.'"
      ]
    },
    {
      "cell_type": "code",
      "execution_count": 41,
      "metadata": {
        "colab": {
          "base_uri": "https://localhost:8080/"
        },
        "id": "XZ6tvAGqV99u",
        "outputId": "5efc21d0-431d-46bb-f282-dab214c4969a"
      },
      "outputs": [
        {
          "data": {
            "text/plain": [
              "[('한편', ''),\n",
              " ('IMF', '가'),\n",
              " ('추정', '한'),\n",
              " ('우리나라', '의'),\n",
              " ('GDP', '갭률은'),\n",
              " ('금년', '에도'),\n",
              " ('소폭', '의'),\n",
              " ('마이너스', '(-)를'),\n",
              " ('지속', '하고'),\n",
              " ('있는', '데,'),\n",
              " ('잠재', '성장률'),\n",
              " ('추정', '의'),\n",
              " ('불확실성', '을'),\n",
              " ('감안', '하더라도'),\n",
              " ('최근', '의'),\n",
              " ('고용', '상황,'),\n",
              " ('제조업', '가동률,'),\n",
              " ('물가', '상승률'),\n",
              " ('등에', ''),\n",
              " ('비추어', ''),\n",
              " ('볼', ''),\n",
              " ('때', ''),\n",
              " ('동', ''),\n",
              " ('추정', '치가'),\n",
              " ('어느', ''),\n",
              " ('정도', ''),\n",
              " ('타당', '성이'),\n",
              " ('있어', ''),\n",
              " ('보인다고', ''),\n",
              " ('언급', '하면서'),\n",
              " ('관련부서', '의'),\n",
              " ('견해를', ''),\n",
              " ('물었음.', '')]"
            ]
          },
          "execution_count": 41,
          "metadata": {},
          "output_type": "execute_result"
        }
      ],
      "source": [
        "from soynlp.tokenizer import LTokenizer\n",
        "\n",
        "scores = {word:score.cohesion_forward for word, score in word_score.items()}\n",
        "l_tokenizer = LTokenizer(scores=scores)\n",
        "\n",
        "l_tokenizer.tokenize(text, flatten=False)"
      ]
    },
    {
      "cell_type": "markdown",
      "metadata": {
        "id": "t6dHafiRV99u"
      },
      "source": [
        "## 최대 점수 토큰화"
      ]
    },
    {
      "cell_type": "code",
      "execution_count": 42,
      "metadata": {
        "colab": {
          "base_uri": "https://localhost:8080/"
        },
        "id": "tVT-fQ4UV99u",
        "outputId": "31592bfb-6afe-4de4-9a81-21c7bf973aab"
      },
      "outputs": [
        {
          "data": {
            "text/plain": [
              "['한편',\n",
              " 'IMF',\n",
              " '가',\n",
              " '추정',\n",
              " '한',\n",
              " '우리나라',\n",
              " '의',\n",
              " 'GDP',\n",
              " '갭률은',\n",
              " '금년',\n",
              " '에도',\n",
              " '소',\n",
              " '폭의',\n",
              " '마이너스',\n",
              " '(-)를',\n",
              " '지속',\n",
              " '하고',\n",
              " '있는',\n",
              " '데,',\n",
              " '잠재',\n",
              " '성장',\n",
              " '률',\n",
              " '추정',\n",
              " '의',\n",
              " '불확실성',\n",
              " '을',\n",
              " '감안',\n",
              " '하더라도',\n",
              " '최근',\n",
              " '의',\n",
              " '고용',\n",
              " '상황',\n",
              " ',',\n",
              " '제조업',\n",
              " '가동률,',\n",
              " '물가',\n",
              " '상승',\n",
              " '률',\n",
              " '등에',\n",
              " '비추어',\n",
              " '볼',\n",
              " '때',\n",
              " '동',\n",
              " '추정',\n",
              " '치가',\n",
              " '어느',\n",
              " '정도',\n",
              " '타당',\n",
              " '성이',\n",
              " '있어',\n",
              " '보인다고',\n",
              " '언급',\n",
              " '하면서',\n",
              " '관련부서',\n",
              " '의',\n",
              " '견해를',\n",
              " '물었음.']"
            ]
          },
          "execution_count": 42,
          "metadata": {},
          "output_type": "execute_result"
        }
      ],
      "source": [
        "from soynlp.tokenizer import MaxScoreTokenizer\n",
        "\n",
        "maxscore_tokenizer = MaxScoreTokenizer(scores=scores)\n",
        "maxscore_tokenizer.tokenize(text)"
      ]
    },
    {
      "cell_type": "code",
      "execution_count": null,
      "metadata": {
        "id": "fAamB-2nbfPd"
      },
      "outputs": [],
      "source": []
    }
  ],
  "metadata": {
    "colab": {
      "collapsed_sections": [],
      "include_colab_link": true,
      "name": "02_soynlp.ipynb",
      "provenance": []
    },
    "kernelspec": {
      "display_name": "Python 3",
      "language": "python",
      "name": "python3"
    },
    "language_info": {
      "codemirror_mode": {
        "name": "ipython",
        "version": 3
      },
      "file_extension": ".py",
      "mimetype": "text/x-python",
      "name": "python",
      "nbconvert_exporter": "python",
      "pygments_lexer": "ipython3",
      "version": "3.9.2"
    }
  },
  "nbformat": 4,
  "nbformat_minor": 0
}
