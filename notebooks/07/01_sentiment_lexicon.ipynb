{
  "cells": [
    {
      "cell_type": "markdown",
      "metadata": {
        "id": "En21uLwXsqpC"
      },
      "source": [
        "<a href=\"https://colab.research.google.com/github/chu-ise/378A-2022/blob/main/notebooks/07/01_sentiment_lexicon.ipynb\" target=\"_parent\"><img src=\"https://colab.research.google.com/assets/colab-badge.svg\" alt=\"Open In Colab\"/></a>"
      ]
    },
    {
      "cell_type": "markdown",
      "metadata": {
        "id": "sk58BWF5sqpF"
      },
      "source": [
        "# Sentiment Analysis\n",
        "\n"
      ]
    },
    {
      "cell_type": "markdown",
      "metadata": {
        "id": "WZn6hyjasqpG"
      },
      "source": [
        "## 감성 사전을 이용한 영화 리뷰 감성 분석\n",
        "\n",
        "### NLTK Movie Reviews Dataset"
      ]
    },
    {
      "cell_type": "code",
      "execution_count": 1,
      "metadata": {
        "colab": {
          "base_uri": "https://localhost:8080/"
        },
        "id": "ySm6zAG-sqpG",
        "outputId": "4a5ac403-5cab-4b6e-e110-3f04351ec6e3"
      },
      "outputs": [
        {
          "name": "stdout",
          "output_type": "stream",
          "text": [
            "[nltk_data] Downloading package movie_reviews to /root/nltk_data...\n",
            "[nltk_data]   Unzipping corpora/movie_reviews.zip.\n",
            "#review count: 2000\n",
            "#samples of file ids: ['neg/cv000_29416.txt', 'neg/cv001_19502.txt', 'neg/cv002_17424.txt', 'neg/cv003_12683.txt', 'neg/cv004_12641.txt', 'neg/cv005_29357.txt', 'neg/cv006_17022.txt', 'neg/cv007_4992.txt', 'neg/cv008_29326.txt', 'neg/cv009_29417.txt']\n",
            "#categories of reviews: ['neg', 'pos']\n",
            "#num of \"neg\" reviews: 1000\n",
            "#num of \"pos\" reviews: 1000\n",
            "#id of the first review: neg/cv000_29416.txt\n",
            "#part of the first review: plot : two teen couples go to a church party , drink and then drive . \n",
            "they get into an accident . \n",
            "one of the guys dies , but his girlfriend continues to see him in her life , and has nightmares . \n",
            "what's the deal ? \n",
            "watch the movie and \" sorta \" find out . . . \n",
            "critique : a mind-fuck movie for the teen generation that touches on a very cool idea , but presents it in a very bad package . \n",
            "which is what makes this review an even harder one to write , since i generally applaud films which attempt\n",
            "#sentiment of the first review: ['neg']\n"
          ]
        }
      ],
      "source": [
        "import nltk\n",
        "nltk.download('movie_reviews')\n",
        "\n",
        "from nltk.corpus import movie_reviews\n",
        "\n",
        "print('#review count:', len(movie_reviews.fileids())) #영화 리뷰 문서의 id를 반환\n",
        "print('#samples of file ids:', movie_reviews.fileids()[:10]) #id를 10개까지만 출력\n",
        "print('#categories of reviews:', movie_reviews.categories()) # label, 즉 긍정인지 부정인지에 대한 분류\n",
        "print('#num of \"neg\" reviews:', len(movie_reviews.fileids(categories='neg'))) #label이 부정인 문서들의 id를 반환\n",
        "print('#num of \"pos\" reviews:', len(movie_reviews.fileids(categories='pos'))) #label이 긍정인 문서들의 id를 반환\n",
        "\n",
        "fileid = movie_reviews.fileids()[0] #첫번째 문서의 id를 반환\n",
        "print('#id of the first review:', fileid)\n",
        "print('#part of the first review:', movie_reviews.raw(fileid)[:500]) #첫번째 문서의 내용을 500자까지만 출력\n",
        "print('#sentiment of the first review:', movie_reviews.categories(fileid)) #첫번째 문서의 감성\n",
        "\n",
        "fileids = movie_reviews.fileids() #movie review data에서 file id를 가져옴\n",
        "reviews = [movie_reviews.raw(fileid) for fileid in fileids] #file id를 이용해 raw text file을 가져옴\n",
        "categories = [movie_reviews.categories(fileid)[0] for fileid in fileids] "
      ]
    },
    {
      "cell_type": "code",
      "execution_count": 26,
      "metadata": {
        "id": "rA3Mt6LXsqpI"
      },
      "outputs": [],
      "source": [
        "from sklearn.metrics import confusion_matrix \n",
        "from sklearn.metrics import accuracy_score \n",
        "from sklearn.metrics import f1_score\n",
        "from sklearn.metrics import precision_score\n",
        "from sklearn.metrics import recall_score\n",
        "from sklearn.metrics import classification_report \n",
        "import seaborn as sn\n",
        "import matplotlib.pyplot as plt\n",
        "from sklearn.metrics import accuracy_score \n",
        "from sklearn.metrics import classification_report \n",
        "import pandas as pd\n",
        "\n",
        "plt.style.use('seaborn-pastel')\n",
        "\n",
        "def model_performance(true_labels, predicted_labels, classes=['pos', 'neg']):\n",
        "  conf_matrix=confusion_matrix(true_labels,predicted_labels)\n",
        "  df_cm=pd.DataFrame(conf_matrix,index=classes,columns=classes)\n",
        "  print(\"Accuracy: \",accuracy_score(true_labels,predicted_labels))\n",
        "  print(\"Precison: \", precision_score(true_labels,predicted_labels, average='weighted'))\n",
        "  print(\"Recall: \", recall_score(true_labels,predicted_labels, average='weighted'))\n",
        "  print(\"F1 Score: \", f1_score(true_labels,predicted_labels, average='weighted'))\n",
        "  print(\"Model Report: \\n___________________________________________________\",)\n",
        "  print( classification_report(true_labels,predicted_labels))\n",
        "\n",
        "  print(\"CONFUSION MATRIX: \")\n",
        "  sn.heatmap(df_cm, annot=True)"
      ]
    },
    {
      "cell_type": "markdown",
      "metadata": {
        "id": "ZSTBRAkLsqpI"
      },
      "source": [
        "### TextBlob을 이용한 감성 분석\n",
        "\n",
        "- https://textblob.readthedocs.io/en/dev/quickstart.html"
      ]
    },
    {
      "cell_type": "code",
      "execution_count": 4,
      "metadata": {
        "id": "GjjrYSSqsqpJ"
      },
      "outputs": [],
      "source": [
        "%%capture\n",
        "%pip install -U textblob"
      ]
    },
    {
      "cell_type": "code",
      "execution_count": 5,
      "metadata": {
        "colab": {
          "base_uri": "https://localhost:8080/"
        },
        "id": "XZxooIOisqpJ",
        "outputId": "e5a15c06-d746-4077-cd6f-dbb12dbe1bac"
      },
      "outputs": [
        {
          "name": "stdout",
          "output_type": "stream",
          "text": [
            "Sentiment(polarity=0.06479782948532947, subjectivity=0.5188408350908352)\n"
          ]
        }
      ],
      "source": [
        "from textblob import TextBlob\n",
        "\n",
        "result = TextBlob(reviews[0])\n",
        "print(result.sentiment)"
      ]
    },
    {
      "cell_type": "code",
      "execution_count": 8,
      "metadata": {
        "id": "LNIEqjLCsqpK"
      },
      "outputs": [],
      "source": [
        "def sentiment_TextBlob(docs):\n",
        "    results = []\n",
        "\n",
        "    for doc in docs:\n",
        "        testimonial = TextBlob(doc)\n",
        "        if testimonial.sentiment.polarity > 0:\n",
        "            results.append('pos')\n",
        "        else:\n",
        "            results.append('neg')\n",
        "    return results"
      ]
    },
    {
      "cell_type": "code",
      "execution_count": 25,
      "metadata": {
        "colab": {
          "base_uri": "https://localhost:8080/",
          "height": 568
        },
        "id": "pxBAdFy6sqpK",
        "outputId": "ccf374e8-f471-49c4-a8b6-4a7c394bf4e2"
      },
      "outputs": [
        {
          "name": "stdout",
          "output_type": "stream",
          "text": [
            "Accuracy:  0.6\n",
            "Precison:  0.7225010902553423\n",
            "Recall:  0.6\n",
            "F1 Score:  0.5361560556566348\n",
            "Model Report: \n",
            "___________________________________________________\n",
            "              precision    recall  f1-score   support\n",
            "\n",
            "         neg       0.89      0.23      0.36      1000\n",
            "         pos       0.56      0.97      0.71      1000\n",
            "\n",
            "    accuracy                           0.60      2000\n",
            "   macro avg       0.72      0.60      0.54      2000\n",
            "weighted avg       0.72      0.60      0.54      2000\n",
            "\n",
            "CONFUSION MATRIX: \n"
          ]
        },
        {
          "data": {
            "image/png": "[encoded data removed]",
            "text/plain": [
              "<Figure size 432x288 with 2 Axes>"
            ]
          },
          "metadata": {},
          "output_type": "display_data"
        }
      ],
      "source": [
        "from sklearn.metrics import accuracy_score\n",
        "\n",
        "model_performance(categories, sentiment_TextBlob(reviews))"
      ]
    },
    {
      "cell_type": "markdown",
      "metadata": {
        "id": "aMhvEvYqsqpL"
      },
      "source": [
        "### AFINN을 이용한 감성 분석\n",
        "\n",
        "- https://github.com/fnielsen/afinn \n",
        "- http://corpustext.com/reference/sentiment_afinn.html"
      ]
    },
    {
      "cell_type": "code",
      "execution_count": 10,
      "metadata": {
        "id": "7JQ7oL5ZsqpL"
      },
      "outputs": [],
      "source": [
        "%%capture\n",
        "%pip install afinn"
      ]
    },
    {
      "cell_type": "code",
      "execution_count": 11,
      "metadata": {
        "colab": {
          "base_uri": "https://localhost:8080/",
          "height": 571
        },
        "id": "eFNljjCcsqpM",
        "outputId": "88296b03-d70e-4e24-c744-1ff9b873196b"
      },
      "outputs": [
        {
          "name": "stdout",
          "output_type": "stream",
          "text": [
            "Accuracy:  0.664\n",
            "Precison:  0.6783880680137142\n",
            "Recall:  0.664\n",
            "F1 Score:  0.6570854714462421\n",
            "Model Report: \n",
            "___________________________________________________\n",
            "              precision    recall  f1-score   support\n",
            "\n",
            "         neg       0.73      0.52      0.61      1000\n",
            "         pos       0.63      0.81      0.71      1000\n",
            "\n",
            "    accuracy                           0.66      2000\n",
            "   macro avg       0.68      0.66      0.66      2000\n",
            "weighted avg       0.68      0.66      0.66      2000\n",
            "\n",
            "CONFUSION MATRIX: \n"
          ]
        },
        {
          "data": {
            "image/png": "[encoded data removed]",
            "text/plain": [
              "<Figure size 432x288 with 2 Axes>"
            ]
          },
          "metadata": {},
          "output_type": "display_data"
        }
      ],
      "source": [
        "from afinn import Afinn\n",
        "\n",
        "def sentiment_Afinn(docs):\n",
        "    afn = Afinn(emoticons=True)\n",
        "    results = []\n",
        "\n",
        "    for doc in docs:\n",
        "        if afn.score(doc) > 0:\n",
        "            results.append('pos')\n",
        "        else:\n",
        "            results.append('neg')\n",
        "    return results\n",
        "\n",
        "model_performance(categories, sentiment_Afinn(reviews))"
      ]
    },
    {
      "cell_type": "markdown",
      "metadata": {
        "id": "FfZUV32zsqpM"
      },
      "source": [
        "### VADER를 이용한 감성 분석\n",
        "\n",
        "- https://github.com/cjhutto/vaderSentiment"
      ]
    },
    {
      "cell_type": "code",
      "execution_count": 13,
      "metadata": {
        "id": "l6eHD0LVsqpM"
      },
      "outputs": [],
      "source": [
        "%%capture\n",
        "import nltk\n",
        "nltk.download('vader_lexicon')"
      ]
    },
    {
      "cell_type": "code",
      "execution_count": 14,
      "metadata": {
        "colab": {
          "base_uri": "https://localhost:8080/",
          "height": 603
        },
        "id": "Dl2s2OETsqpM",
        "outputId": "af60c905-aa0e-410f-f2dc-65913e50b797"
      },
      "outputs": [
        {
          "name": "stderr",
          "output_type": "stream",
          "text": [
            "/usr/local/lib/python3.7/dist-packages/nltk/twitter/__init__.py:20: UserWarning: The twython library has not been installed. Some functionality from the twitter package will not be available.\n",
            "  warnings.warn(\"The twython library has not been installed. \"\n"
          ]
        },
        {
          "name": "stdout",
          "output_type": "stream",
          "text": [
            "Accuracy:  0.6365\n",
            "Precison:  0.659965124087232\n",
            "Recall:  0.6365\n",
            "F1 Score:  0.622662172868995\n",
            "Model Report: \n",
            "___________________________________________________\n",
            "              precision    recall  f1-score   support\n",
            "\n",
            "         neg       0.72      0.45      0.55      1000\n",
            "         pos       0.60      0.83      0.69      1000\n",
            "\n",
            "    accuracy                           0.64      2000\n",
            "   macro avg       0.66      0.64      0.62      2000\n",
            "weighted avg       0.66      0.64      0.62      2000\n",
            "\n",
            "CONFUSION MATRIX: \n"
          ]
        },
        {
          "data": {
            "image/png": "[encoded data removed]",
            "text/plain": [
              "<Figure size 432x288 with 2 Axes>"
            ]
          },
          "metadata": {},
          "output_type": "display_data"
        }
      ],
      "source": [
        "from nltk.sentiment.vader import SentimentIntensityAnalyzer\n",
        "\n",
        "def sentiment_vader(docs):\n",
        "    analyser = SentimentIntensityAnalyzer()\n",
        "    results = []\n",
        "\n",
        "    for doc in docs:\n",
        "        score = analyser.polarity_scores(doc)\n",
        "        if score['compound'] > 0:\n",
        "            results.append('pos')\n",
        "        else:\n",
        "            results.append('neg')\n",
        "\n",
        "    return results\n",
        "\n",
        "model_performance(categories, sentiment_vader(reviews))"
      ]
    },
    {
      "cell_type": "markdown",
      "metadata": {
        "id": "WD6BW8ZvsqpN"
      },
      "source": [
        "## 학습을 통한 머신러닝 기반의 감성 분석\n",
        "\n",
        "###  NLTK 영화 리뷰에 대한 머신러닝 기반 감성 분석\n"
      ]
    },
    {
      "cell_type": "code",
      "execution_count": 15,
      "metadata": {
        "colab": {
          "base_uri": "https://localhost:8080/"
        },
        "id": "Vn95MSVmsqpN",
        "outputId": "df5126e6-eb98-4cec-fe61-954433d95b2d"
      },
      "outputs": [
        {
          "name": "stdout",
          "output_type": "stream",
          "text": [
            "Train set count:  1600\n",
            "Test set count:  400\n"
          ]
        }
      ],
      "source": [
        "from sklearn.model_selection import train_test_split\n",
        "\n",
        "X_train, X_test, y_train, y_test = train_test_split(reviews, categories, test_size=0.2, random_state=7)\n",
        "\n",
        "print('Train set count: ', len(X_train))\n",
        "print('Test set count: ', len(X_test))"
      ]
    },
    {
      "cell_type": "code",
      "execution_count": 16,
      "metadata": {
        "colab": {
          "base_uri": "https://localhost:8080/"
        },
        "id": "6RhUJW4QsqpN",
        "outputId": "ab749c9c-fcd8-4a9e-d5ed-f6aadb05414b"
      },
      "outputs": [
        {
          "name": "stdout",
          "output_type": "stream",
          "text": [
            "#Train set dimension: (1600, 36189)\n",
            "#Test set dimension: (400, 36189)\n",
            "#Train set score: 0.998\n",
            "#Test set score: 0.797\n"
          ]
        }
      ],
      "source": [
        "from sklearn.feature_extraction.text import TfidfVectorizer\n",
        "from sklearn.naive_bayes import MultinomialNB\n",
        "\n",
        "tfidf = TfidfVectorizer().fit(X_train) \n",
        "\n",
        "X_train_tfidf = tfidf.transform(X_train)\n",
        "print('#Train set dimension:', X_train_tfidf.shape)\n",
        "X_test_tfidf = tfidf.transform(X_test)\n",
        "print('#Test set dimension:', X_test_tfidf.shape)\n",
        "\n",
        "NB_clf = MultinomialNB(alpha=0.01)\n",
        "NB_clf.fit(X_train_tfidf, y_train)\n",
        "print('#Train set score: {:.3f}'.format(NB_clf.score(X_train_tfidf, y_train)))\n",
        "print('#Test set score: {:.3f}'.format(NB_clf.score(X_test_tfidf, y_test)))"
      ]
    },
    {
      "cell_type": "code",
      "execution_count": 23,
      "metadata": {
        "colab": {
          "base_uri": "https://localhost:8080/",
          "height": 573
        },
        "id": "DZbSkECXsqpO",
        "outputId": "e6e0850e-50ac-41f2-a094-8b3e4f5dbf7a"
      },
      "outputs": [
        {
          "name": "stdout",
          "output_type": "stream",
          "text": [
            "Accuracy:  0.7975\n",
            "Precison:  0.7975973149328733\n",
            "Recall:  0.7975\n",
            "F1 Score:  0.7975037968987305\n",
            "Model Report: \n",
            "___________________________________________________\n",
            "              precision    recall  f1-score   support\n",
            "\n",
            "         neg       0.79      0.80      0.80       198\n",
            "         pos       0.80      0.79      0.80       202\n",
            "\n",
            "    accuracy                           0.80       400\n",
            "   macro avg       0.80      0.80      0.80       400\n",
            "weighted avg       0.80      0.80      0.80       400\n",
            "\n",
            "CONFUSION MATRIX: \n"
          ]
        },
        {
          "data": {
            "image/png": "[encoded data removed]",
            "text/plain": [
              "<Figure size 432x288 with 2 Axes>"
            ]
          },
          "metadata": {},
          "output_type": "display_data"
        }
      ],
      "source": [
        "predicted_sentiments = NB_clf.predict(X_test_tfidf)\n",
        "model_performance(y_test, predicted_sentiments)"
      ]
    },
    {
      "cell_type": "code",
      "execution_count": null,
      "metadata": {
        "id": "MI0ttDPkvEz6"
      },
      "outputs": [],
      "source": []
    }
  ],
  "metadata": {
    "colab": {
      "name": "01_sentiment_lexicon.ipynb",
      "provenance": []
    },
    "kernelspec": {
      "display_name": "Python 3 (ipykernel)",
      "language": "python",
      "name": "python3"
    },
    "language_info": {
      "codemirror_mode": {
        "name": "ipython",
        "version": 3
      },
      "file_extension": ".py",
      "mimetype": "text/x-python",
      "name": "python",
      "nbconvert_exporter": "python",
      "pygments_lexer": "ipython3",
      "version": "3.9.2"
    },
    "toc": {
      "base_numbering": 1,
      "nav_menu": {},
      "number_sections": true,
      "sideBar": true,
      "skip_h1_title": false,
      "title_cell": "Table of Contents",
      "title_sidebar": "Contents",
      "toc_cell": true,
      "toc_position": {
        "height": "calc(100% - 180px)",
        "left": "10px",
        "top": "150px",
        "width": "165px"
      },
      "toc_section_display": true,
      "toc_window_display": false
    },
    "varInspector": {
      "cols": {
        "lenName": 16,
        "lenType": 16,
        "lenVar": 40
      },
      "kernels_config": {
        "python": {
          "delete_cmd_postfix": "",
          "delete_cmd_prefix": "del ",
          "library": "var_list.py",
          "varRefreshCmd": "print(var_dic_list())"
        },
        "r": {
          "delete_cmd_postfix": ") ",
          "delete_cmd_prefix": "rm(",
          "library": "var_list.r",
          "varRefreshCmd": "cat(var_dic_list()) "
        }
      },
      "types_to_exclude": [
        "module",
        "function",
        "builtin_function_or_method",
        "instance",
        "_Feature"
      ],
      "window_display": false
    }
  },
  "nbformat": 4,
  "nbformat_minor": 0
}
